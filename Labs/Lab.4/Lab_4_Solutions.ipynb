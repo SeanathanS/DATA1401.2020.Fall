{
  "nbformat": 4,
  "nbformat_minor": 0,
  "metadata": {
    "kernelspec": {
      "display_name": "Python 3",
      "language": "python",
      "name": "python3"
    },
    "language_info": {
      "codemirror_mode": {
        "name": "ipython",
        "version": 3
      },
      "file_extension": ".py",
      "mimetype": "text/x-python",
      "name": "python",
      "nbconvert_exporter": "python",
      "pygments_lexer": "ipython3",
      "version": "3.8.1"
    },
    "colab": {
      "name": "Copy of Lab-4.ipynb",
      "provenance": [],
      "collapsed_sections": []
    }
  },
  "cells": [
    {
      "cell_type": "markdown",
      "metadata": {
        "id": "GrbC-i2d76PY"
      },
      "source": [
        "## Lab 4\n",
        "\n",
        "[![Open In Colab](https://colab.research.google.com/assets/colab-badge.svg)](https://colab.research.google.com/github//afarbin/DATA1401-Spring-2020/blob/master/Labs/Lab-4/Lab-4.ipynb)\n",
        "\n",
        "In this lab we will become familiar with distributions, histograms, and functional programming. \n",
        "\n",
        "\n",
        "### Uniform Distribution\n",
        "Lets start with generating some fake random data. You can get a random number between 0 and 1 using the python random module as follow:"
      ]
    },
    {
      "cell_type": "code",
      "metadata": {
        "id": "rgN9ys1076Pb",
        "outputId": "0d1b34c3-741c-4457-da01-362d11d5ade6",
        "colab": {
          "base_uri": "https://localhost:8080/",
          "height": 35
        }
      },
      "source": [
        "import random\n",
        "x=random.random()\n",
        "print(\"The Value of x is\", x)"
      ],
      "execution_count": 8,
      "outputs": [
        {
          "output_type": "stream",
          "text": [
            "The Value of x is 0.5640425985594941\n"
          ],
          "name": "stdout"
        }
      ]
    },
    {
      "cell_type": "markdown",
      "metadata": {
        "id": "mXF6SfLd76Pk"
      },
      "source": [
        "Everytime you call random, you will get a new number.\n",
        "\n",
        "*Exercise 1:* Using random, write a function `generate_uniform(N, mymin, mymax)`, that returns a python list containing N random numbers between specified minimum and maximum value. Note that you may want to quickly work out on paper how to turn numbers between 0 and 1 to between other values. "
      ]
    },
    {
      "cell_type": "code",
      "metadata": {
        "id": "7P9W96IC76Pn"
      },
      "source": [
        "# Skeleton\n",
        "def generate_uniform(N,x_min,x_max):\n",
        "    out = list()\n",
        "    p = 0\n",
        "    value = 0\n",
        "    previous_value = 0\n",
        "    ### BEGIN SOLUTION\n",
        "\n",
        "    #Finding the Range\n",
        "\n",
        "\n",
        "    for i in range(N):\n",
        "      out.append(random.random() * (x_max - x_min) + x_min)\n",
        "\n",
        "\n",
        "    \n",
        "    ### END SOLUTION\n",
        "    return out"
      ],
      "execution_count": 6,
      "outputs": []
    },
    {
      "cell_type": "code",
      "metadata": {
        "id": "Ex15G_VP76Pv",
        "outputId": "ca4261ea-bc94-46c0-b37b-6a1fc42e41a6",
        "colab": {
          "base_uri": "https://localhost:8080/",
          "height": 109
        }
      },
      "source": [
        "# Test your solution here\n",
        "data=generate_uniform(1000,-10,10)\n",
        "print (\"Data Type:\", type(data))\n",
        "print (\"Data Length:\", len(data))\n",
        "if len(data)>0: \n",
        "    print (\"Type of Data Contents:\", type(data[0]))\n",
        "    print (\"Data Minimum:\", min(data))\n",
        "    print (\"Data Maximum:\", max(data))"
      ],
      "execution_count": 26,
      "outputs": [
        {
          "output_type": "stream",
          "text": [
            "Data Type: <class 'list'>\n",
            "Data Length: 1000\n",
            "Type of Data Contents: <class 'float'>\n",
            "Data Minimum: -9.99282508593649\n",
            "Data Maximum: 9.994834392965554\n"
          ],
          "name": "stdout"
        }
      ]
    },
    {
      "cell_type": "markdown",
      "metadata": {
        "id": "HxmGOF8176P2"
      },
      "source": [
        "*Exercise 2a:* \n",
        "Write a function that computes the mean of values in a list."
      ]
    },
    {
      "cell_type": "code",
      "metadata": {
        "id": "bh-1ZM7676P2"
      },
      "source": [
        "# Skeleton\n",
        "def mean(lst):\n",
        "  m=0.\n",
        "  sum = 0 \n",
        "    \n",
        "  ### BEGIN SOLUTION\n",
        "\n",
        "  for k in range(len(lst)):\n",
        "    sum = sum + lst[k]\n",
        "  m = sum/len(lst)  \n",
        "  \n",
        "    ### END SOLUTION\n",
        "    \n",
        "  return m"
      ],
      "execution_count": 9,
      "outputs": []
    },
    {
      "cell_type": "code",
      "metadata": {
        "id": "A1U0SOxZ76P7",
        "outputId": "9f31a220-9369-48d9-a379-0d2fea8a4bdb",
        "colab": {
          "base_uri": "https://localhost:8080/",
          "height": 35
        }
      },
      "source": [
        "# Test your solution here\n",
        "print (\"Mean of Data:\", mean(data))"
      ],
      "execution_count": 21,
      "outputs": [
        {
          "output_type": "stream",
          "text": [
            "Mean of Data: 0.01378610245407943\n"
          ],
          "name": "stdout"
        }
      ]
    },
    {
      "cell_type": "markdown",
      "metadata": {
        "id": "IeelpWxP76QA"
      },
      "source": [
        "*Exercise 2b:* \n",
        "Write a function that computes the variance of values in a list."
      ]
    },
    {
      "cell_type": "code",
      "metadata": {
        "id": "VbUloHpr76QB"
      },
      "source": [
        "# Skeleton\n",
        "def variance(lst):\n",
        "  v=0.\n",
        "  sum = 0\n",
        "  \n",
        "  \n",
        "  ### BEGIN SOLUTION\n",
        "  for k in range(len(lst)):\n",
        "    sum = sum + lst[k]\n",
        "  m = sum/len(lst)  \n",
        "      \n",
        "  for h in range(len(lst)):\n",
        "    v = v + (lst[h] - m)**2\n",
        "  v = v/(len(lst) - 1 )\n",
        "  \n",
        "  ### END SOLUTION\n",
        "  \n",
        "  return v"
      ],
      "execution_count": 10,
      "outputs": []
    },
    {
      "cell_type": "code",
      "metadata": {
        "id": "3IS8RTtJ76QF",
        "outputId": "f652cfc8-e7d5-4325-a795-1b2bfc767da3",
        "colab": {
          "base_uri": "https://localhost:8080/",
          "height": 35
        }
      },
      "source": [
        "# Test your solution here\n",
        "print (\"Variance of Data:\", variance(data))"
      ],
      "execution_count": 18,
      "outputs": [
        {
          "output_type": "stream",
          "text": [
            "Variance of Data: 33.85098617229175\n"
          ],
          "name": "stdout"
        }
      ]
    },
    {
      "cell_type": "markdown",
      "metadata": {
        "id": "lSqdyQCS76QJ"
      },
      "source": [
        "## Histogramming"
      ]
    },
    {
      "cell_type": "markdown",
      "metadata": {
        "id": "-wqkPluz76QK"
      },
      "source": [
        "*Exercise 3:* Write a function that bins the data so that you can create a histogram. An example of how to implement histogramming is the following logic:\n",
        "\n",
        "* User inputs a list of values `x` and optionally `n_bins` which defaults to 10.\n",
        "* If not supplied, find the minimum and maximum (`x_min`,`x_max`) of the values in x.\n",
        "* Determine the bin size (`bin_size`) by dividing the range of the function by the number of bins.\n",
        "* Create an empty list of zeros of size `n_bins`, call it `hist`.\n",
        "* Loop over the values in `x`\n",
        "    * Loop over the values in `hist` with index `i`:\n",
        "        * If x is between `x_min+i*bin_size` and `x_min+(i+1)*bin_size`, increment `hist[i].` \n",
        "        * For efficiency, try to use continue to goto the next bin and data point.\n",
        "* Return `hist` and the list corresponding of the bin edges (i.e. of `x_min+i*bin_size`).    "
      ]
    },
    {
      "cell_type": "code",
      "metadata": {
        "id": "f5S0wFmK76QL"
      },
      "source": [
        "# Solution\n",
        "def histogram(x,n_bins=10,x_min=None,x_max=None):\n",
        "  ### BEGIN SOLUTION\n",
        "  hist = list()\n",
        "  bin_edges = list()\n",
        "\n",
        "  x_min = min(data)\n",
        "  x_max = max(data)\n",
        "\n",
        "  bin_size = (x_max - x_min)/n_bins\n",
        "\n",
        "  for _ in range(n_bins):\n",
        "    hist.append(0)\n",
        "\n",
        "  for n in range(n_bins):\n",
        "    bin_edges.append(x_min + (n * bin_size))\n",
        "\n",
        "  for j in range(len(data)):\n",
        "    for i in range(n_bins):\n",
        "      if data[j] >= (x_min + (i * bin_size)) and data[j] < (x_min + (i+1)*bin_size):\n",
        "        hist[i] = hist[i] + 1\n",
        "        break\n",
        "\n",
        "  ### END SOLUTION\n",
        "\n",
        "  return hist,bin_edges"
      ],
      "execution_count": null,
      "outputs": []
    },
    {
      "cell_type": "code",
      "metadata": {
        "id": "yXRyNAUr76QP",
        "outputId": "8b28b195-17b1-4217-c6a9-b8587ed29e63",
        "colab": {
          "base_uri": "https://localhost:8080/",
          "height": 35
        }
      },
      "source": [
        "# Test your solution here\n",
        "h,b=histogram(data,10)\n",
        "print(h)\n"
      ],
      "execution_count": null,
      "outputs": [
        {
          "output_type": "stream",
          "text": [
            "[102, 104, 96, 93, 96, 100, 99, 112, 92, 105]\n"
          ],
          "name": "stdout"
        }
      ]
    },
    {
      "cell_type": "markdown",
      "metadata": {
        "id": "Ays_zfYq76QU"
      },
      "source": [
        "*Exercise 4:* Write a function that uses the histogram function in the previous exercise to create a text-based \"graph\". For example the output could look like the following:\n",
        "```\n",
        "[  0,  1] : ######\n",
        "[  1,  2] : #####\n",
        "[  2,  3] : ######\n",
        "[  3,  4] : ####\n",
        "[  4,  5] : ####\n",
        "[  5,  6] : ######\n",
        "[  6,  7] : #####\n",
        "[  7,  8] : ######\n",
        "[  8,  9] : ####\n",
        "[  9, 10] : #####\n",
        "```\n",
        "\n",
        "Where each line corresponds to a bin and the number of `#`'s are proportional to the value of the data in the bin. "
      ]
    },
    {
      "cell_type": "code",
      "metadata": {
        "id": "VL7frr3g76QV"
      },
      "source": [
        "# Solution\n",
        "def draw_histogram(lst,n_bins,x_min=None,x_max=None,character=\"#\",max_character_per_line=20):\n",
        "  ### BEGIN SOLUTION\n",
        "\n",
        "  def histogram(lst,n_bins=10,x_min=None,x_max=None):\n",
        "  ### BEGIN SOLUTION\n",
        "    hist = list()\n",
        "    bin_edges = list()\n",
        "    \n",
        "    x_min = min(lst)\n",
        "    x_max = max(lst)\n",
        "\n",
        "    print(x_min,x_max)\n",
        "\n",
        "    bin_size = (x_max - x_min)/n_bins\n",
        "\n",
        "    for _ in range(n_bins):\n",
        "      hist.append(0)\n",
        "\n",
        "    for n in range(n_bins):\n",
        "      bin_edges.append(x_min + (n * bin_size))\n",
        "\n",
        "    for j in range(len(lst)):\n",
        "      for i in range(n_bins):\n",
        "        if lst[j] >= (x_min + (i * bin_size)) and lst[j] < (x_min + (i+1)*bin_size):\n",
        "          hist[i] = hist[i] + 1\n",
        "          break\n",
        "\n",
        "    return hist,bin_edges,bin_size\n",
        "  \n",
        "\n",
        "\n",
        "  hist,bin_edges,bin_width=histogram(lst,n_bins)\n",
        "\n",
        "  hist_max = max(hist)\n",
        "  x_min = min(lst)\n",
        "  bin_lengths = list()\n",
        "  differences = list()\n",
        "  adjusted_bin_edges = list()\n",
        "  adjusted_right_bin_edges = list()\n",
        "  right_bin_edges = list()\n",
        "  right_bin_edge_lengths = list()\n",
        "\n",
        "  for h in range(len(bin_edges)):\n",
        "    bin_lengths.append(len(str(bin_edges[h])))\n",
        "  min_length = min(bin_lengths)\n",
        "\n",
        "  \n",
        "  #for b in range(len(adjusted_bin_edges)):\n",
        "   # print(len(adjusted_bin_edges[b]))\n",
        "\n",
        "  for l in range(len(bin_lengths)):\n",
        "    adjusted_bin_edges.append(str(bin_edges[l])[:min_length])\n",
        "\n",
        "  proportion = max_character_per_line/hist_max\n",
        "  \n",
        "  for m in range(len(bin_lengths)):\n",
        "    right_bin_edges.append(bin_edges[m] + bin_width)\n",
        "    right_bin_edge_lengths.append(len(str(right_bin_edges[m])))\n",
        "\n",
        "  min_right_length = min(right_bin_edge_lengths)\n",
        "\n",
        "  for h in range(len(right_bin_edges)):\n",
        "    adjusted_right_bin_edges.append(float(str(bin_edges[h] + bin_width)[:min_right_length+1]))\n",
        "\n",
        "  for n in range(len(adjusted_bin_edges)):\n",
        "    if not len(str(adjusted_bin_edges[n])) == min_length:\n",
        "      str(adjusted_bin_edges[n]) + ' '*(min_length - len(str(adjusted_bin_edges[n])))\n",
        "    if not len(str(adjusted_right_bin_edges[n])) == min_right_length:\n",
        "      str(adjusted_bin_edges[n]) + ' '*(min_right_length - len(str(adjusted_right_bin_edges[n])))\n",
        "\n",
        "  \n",
        "\n",
        "  for i in range(n_bins):\n",
        "    print('[',adjusted_bin_edges[i],',',adjusted_right_bin_edges[i],']',':','#'* int(hist[i]*proportion))\n",
        "    print()\n",
        "\n",
        "  \n",
        "  ### END SOLUTION\n",
        "\n",
        "  #return hist,bin_edges"
      ],
      "execution_count": 153,
      "outputs": []
    },
    {
      "cell_type": "code",
      "metadata": {
        "id": "yqI_bU6p76Qa",
        "outputId": "3bcb9476-deb0-4d6d-8b5c-ee98cabbb243",
        "colab": {
          "base_uri": "https://localhost:8080/",
          "height": 808
        }
      },
      "source": [
        "# Test your solution here\n",
        "h,b=draw_histogram(data,20)\n",
        "print(h)\n",
        "print(b)"
      ],
      "execution_count": 32,
      "outputs": [
        {
          "output_type": "stream",
          "text": [
            "[ -9.9908244884968 , -8.9918248546275 ] : ################\n",
            "\n",
            "[ -8.9918248546275 , -7.9928252207582 ] : ##############\n",
            "\n",
            "[ -7.9928252207582 , -6.9938255868889 ] : ##################\n",
            "\n",
            "[ -6.9938255868889 , -5.9948259530196 ] : ##################\n",
            "\n",
            "[ -5.9948259530196 , -4.9958263191504 ] : ############\n",
            "\n",
            "[ -4.9958263191504 , -3.9968266852811 ] : ##################\n",
            "\n",
            "[ -3.9968266852811 , -2.9978270514118 ] : ###################\n",
            "\n",
            "[ -2.9978270514118 , -1.9988274175425 ] : #################\n",
            "\n",
            "[ -1.9988274175425 , -0.9998277836732 ] : ##################\n",
            "\n",
            "[ -0.9998277836732 , -0.0008281498039 ] : ##############\n",
            "\n",
            "[ -0.0008281498039 , 0.99817148406536 ] : ############\n",
            "\n",
            "[ 0.99817148406536 , 1.99717111793466 ] : ##################\n",
            "\n",
            "[ 1.99717111793466 , 2.99617075180395 ] : #############\n",
            "\n",
            "[ 2.99617075180395 , 3.99517038567325 ] : #################\n",
            "\n",
            "[ 3.99517038567325 , 4.99417001954254 ] : ###############\n",
            "\n",
            "[ 4.99417001954254 , 5.99316965341184 ] : #################\n",
            "\n",
            "[ 5.99316965341184 , 6.99216928728113 ] : #################\n",
            "\n",
            "[ 6.99216928728113 , 7.99116892115042 ] : ##############\n",
            "\n",
            "[ 7.99116892115043 , 8.99016855501972 ] : ####################\n",
            "\n",
            "[ 8.99016855501972 , 9.98916818888901 ] : ##################\n",
            "\n",
            "[50, 44, 56, 55, 38, 56, 57, 53, 56, 43, 36, 55, 40, 53, 45, 52, 53, 44, 59, 54]\n",
            "[-9.990824488496875, -8.99182485462758, -7.992825220758285, -6.993825586888991, -5.994825953019696, -4.995826319150401, -3.996826685281107, -2.9978270514118117, -1.9988274175425174, -0.9998277836732221, -0.0008281498039277579, 0.9981714840653666, 1.997171117934661, 2.9961707518039553, 3.9951703856732514, 4.994170019542546, 5.99316965341184, 6.9921692872811345, 7.991168921150431, 8.990168555019723]\n"
          ],
          "name": "stdout"
        }
      ]
    },
    {
      "cell_type": "markdown",
      "metadata": {
        "id": "ysqtp8Ba76Qe"
      },
      "source": [
        "## Functional Programming\n",
        "\n",
        "*Exercise 5:* Write a function the applies a booling function (that returns true/false) to every element in data, and return a list of indices of elements where the result was true. Use this function to find the indices of entries greater than 0.5. "
      ]
    },
    {
      "cell_type": "code",
      "metadata": {
        "id": "MwBaJE8S76Qf"
      },
      "source": [
        "def where(mylist,myfunc):\n",
        "    out= list()\n",
        "    \n",
        "    ### BEGIN SOLUTION\n",
        "\n",
        "    for i in range(len(mylist)):\n",
        "      a = mylist[i]\n",
        "      if x(a) == True:\n",
        "        out.append(i)\n",
        "\n",
        "\n",
        "    ### END SOLUTION\n",
        "    \n",
        "    return out\n",
        "\n"
      ],
      "execution_count": 120,
      "outputs": []
    },
    {
      "cell_type": "code",
      "metadata": {
        "id": "GOMJaj4276Qj",
        "outputId": "4b4971a8-d386-4158-ccb3-e0d78ddd877d",
        "colab": {
          "base_uri": "https://localhost:8080/",
          "height": 55
        }
      },
      "source": [
        "# Test your solution here\n",
        "x = lambda a : a * 2 >= 1\n",
        "print(where(data,x))"
      ],
      "execution_count": 121,
      "outputs": [
        {
          "output_type": "stream",
          "text": [
            "[0, 1, 4, 5, 6, 8, 10, 11, 14, 17, 18, 19, 20, 24, 29, 36, 37, 38, 39, 40, 42, 43, 44, 47, 49, 54, 56, 58, 61, 62, 69, 70, 74, 75, 76, 81, 85, 86, 88, 92, 94, 96, 105, 106, 109, 111, 113, 114, 115, 119, 121, 122, 125, 127, 132, 134, 139, 142, 144, 145, 148, 150, 152, 156, 157, 161, 162, 163, 164, 166, 167, 168, 173, 175, 178, 179, 183, 184, 186, 188, 189, 190, 192, 193, 202, 203, 204, 207, 208, 209, 210, 211, 212, 213, 215, 218, 219, 224, 225, 226, 228, 229, 233, 234, 249, 251, 252, 257, 259, 260, 263, 264, 266, 267, 269, 270, 272, 273, 279, 281, 283, 290, 291, 293, 299, 300, 303, 304, 306, 307, 308, 310, 312, 314, 316, 317, 318, 321, 325, 326, 327, 328, 330, 332, 334, 335, 336, 340, 341, 342, 348, 350, 352, 354, 356, 357, 360, 361, 362, 363, 365, 366, 371, 373, 374, 376, 379, 382, 383, 384, 387, 388, 389, 390, 393, 396, 397, 398, 399, 400, 401, 402, 403, 404, 405, 406, 408, 409, 411, 412, 414, 415, 416, 417, 425, 426, 430, 432, 434, 436, 437, 438, 439, 440, 442, 445, 446, 455, 457, 458, 462, 463, 466, 468, 471, 472, 474, 477, 479, 480, 482, 483, 484, 485, 490, 494, 495, 497, 498, 499, 500, 502, 503, 506, 509, 513, 514, 515, 516, 520, 521, 522, 523, 525, 527, 529, 535, 537, 538, 540, 542, 543, 544, 545, 546, 548, 551, 552, 554, 556, 558, 559, 561, 564, 567, 569, 570, 572, 573, 574, 576, 579, 580, 581, 582, 584, 585, 593, 597, 600, 602, 605, 607, 608, 611, 613, 614, 615, 617, 618, 619, 621, 623, 624, 625, 627, 628, 631, 633, 634, 636, 637, 638, 639, 640, 641, 644, 649, 650, 651, 652, 654, 657, 659, 660, 663, 664, 667, 668, 669, 672, 675, 676, 678, 679, 682, 685, 688, 689, 690, 694, 695, 697, 700, 701, 702, 706, 708, 710, 711, 712, 713, 715, 718, 720, 721, 722, 723, 724, 725, 728, 730, 731, 732, 733, 736, 737, 739, 740, 744, 745, 746, 747, 748, 753, 754, 755, 756, 758, 760, 761, 766, 772, 773, 778, 781, 782, 784, 785, 791, 792, 793, 798, 802, 803, 805, 807, 808, 809, 812, 815, 817, 819, 820, 822, 825, 829, 831, 832, 833, 838, 839, 842, 843, 848, 854, 855, 859, 860, 865, 866, 869, 870, 871, 872, 875, 877, 879, 881, 883, 885, 887, 891, 892, 894, 895, 899, 900, 904, 905, 906, 908, 911, 914, 915, 918, 919, 922, 925, 926, 927, 928, 930, 933, 940, 941, 942, 943, 945, 946, 949, 950, 951, 954, 959, 960, 961, 962, 963, 964, 968, 972, 975, 976, 977, 978, 984, 987, 988, 990, 993, 994, 995, 996, 999]\n"
          ],
          "name": "stdout"
        }
      ]
    },
    {
      "cell_type": "markdown",
      "metadata": {
        "id": "6pR67pdd76Qn"
      },
      "source": [
        "*Exercise 6:* The inrange(mymin,mymax) function below returns a function that tests if it's input is between the specified values. Write corresponding functions that test:\n",
        "* Even\n",
        "* Odd\n",
        "* Greater than\n",
        "* Less than\n",
        "* Equal\n",
        "* Divisible by"
      ]
    },
    {
      "cell_type": "code",
      "metadata": {
        "id": "ku9MlSAc76Qo",
        "outputId": "5e3cfb27-a909-4da7-a275-8a8ab32529a3",
        "colab": {
          "base_uri": "https://localhost:8080/",
          "height": 90
        }
      },
      "source": [
        "def in_range(mymin,mymax):\n",
        "    def testrange(x):\n",
        "        return x<=mymax and x>=mymin\n",
        "    return testrange\n",
        "\n",
        "# Examples:\n",
        "F1=in_range(0,10)\n",
        "F2=in_range(10,20)\n",
        "\n",
        "# Test of in_range\n",
        "print (F1(0), F1(1), F1(10), F1(15), F1(20))\n",
        "print (F2(0), F2(1), F2(10), F2(15), F2(20))\n",
        "\n",
        "print (\"Number of Entries passing F1:\", len(where(data,F1)))\n",
        "print (\"Number of Entries passing F2:\", len(where(data,F2)))"
      ],
      "execution_count": null,
      "outputs": [
        {
          "output_type": "stream",
          "text": [
            "True True True False False\n",
            "False False True True True\n",
            "Number of Entries passing F1: 484\n",
            "Number of Entries passing F2: 484\n"
          ],
          "name": "stdout"
        }
      ]
    },
    {
      "cell_type": "code",
      "metadata": {
        "id": "xa14fDJ_76Qr"
      },
      "source": [
        "### BEGIN SOLUTION\n",
        "\n",
        "def even(n):\n",
        "  check = False\n",
        "  if n % 2 == 0:\n",
        "    check = True\n",
        "  return check   \n",
        "\n",
        "def odd(n):\n",
        "  check = False\n",
        "  if n % 2 == 1:\n",
        "    check = True\n",
        "  return check   \n",
        "\n",
        "def greater(n,a):\n",
        "  if n > a:\n",
        "    return True\n",
        "  else:\n",
        "    return False\n",
        "\n",
        "def less(n,a):\n",
        "  if n < a:\n",
        "    return True\n",
        "  else:\n",
        "    return False\n",
        "\n",
        "def equal(n,a):\n",
        "  if n == a:\n",
        "    return True\n",
        "  else:\n",
        "    return False\n",
        "  \n",
        "def divise(n,a):\n",
        "  if n % a == 0:\n",
        "    return True\n",
        "  else:\n",
        "    return False\n",
        "\n",
        "    \n",
        "### END SOLUTION"
      ],
      "execution_count": null,
      "outputs": []
    },
    {
      "cell_type": "code",
      "metadata": {
        "id": "y7kz99ZO76Qv",
        "outputId": "2439ac52-e49b-49eb-bc60-ca46267d0182",
        "colab": {
          "base_uri": "https://localhost:8080/",
          "height": 237
        }
      },
      "source": [
        "# Test your solution\n",
        "print(\"Even Test, Even\", even(6))\n",
        "print(\"Even Test, Odd\", even(9))\n",
        "print(\"Odd Test, Odd\", odd(7))\n",
        "print(\"Odd Test, Even\", odd(12))\n",
        "print(\"Greater test, Greater\", greater(13,8))\n",
        "print(\"Greater test, Less\", greater(3,8))\n",
        "print(\"Less test, Less\", less(3,8))\n",
        "print(\"Less test, Greater\", less(13,8))\n",
        "print(\"Equal Test, Equal\", equal(8,8))\n",
        "print(\"Equal Test, Not Equal\", equal(8,12))\n",
        "print(\"Divisible By, Is Divisible\", divise(9,3))\n",
        "print(\"Divisible By, Is Not Divisible\", divise(13,3))"
      ],
      "execution_count": null,
      "outputs": [
        {
          "output_type": "stream",
          "text": [
            "Even Test, Even True\n",
            "Even Test, Odd False\n",
            "Odd Test, Odd True\n",
            "Odd Test, Even False\n",
            "Greater test, Greater True\n",
            "Greater test, Less False\n",
            "Less test, Less True\n",
            "Less test, Greater False\n",
            "Equal Test, Equal True\n",
            "Equal Test, Not Equal False\n",
            "Divisible By, Is Divisible True\n",
            "Divisible By, Is Not Divisible False\n"
          ],
          "name": "stdout"
        }
      ]
    },
    {
      "cell_type": "markdown",
      "metadata": {
        "id": "iwa1xDH776Q0"
      },
      "source": [
        "*Exercise 7:* Repeat the previous exercise using `lambda` and the built-in python functions sum and map instead of your solution above. "
      ]
    },
    {
      "cell_type": "code",
      "metadata": {
        "id": "FlwuR7ZT76Q1"
      },
      "source": [
        "### BEGIN SOLUTION\n",
        "\n",
        "x = lambda d : d % 2 == 0\n",
        "y = lambda d : d % 1 == 0\n",
        "z = lambda d,e : d > e \n",
        "a = lambda d,e : d < e \n",
        "b = lambda d,e : d == e\n",
        "c = lambda d,e : d % e == 0       \n",
        "    \n",
        "### END SOLUTION"
      ],
      "execution_count": null,
      "outputs": []
    },
    {
      "cell_type": "code",
      "metadata": {
        "id": "GXVXhReN2Jwf",
        "outputId": "28763e05-96a6-461d-995f-3efeb48da1b7",
        "colab": {
          "base_uri": "https://localhost:8080/",
          "height": 127
        }
      },
      "source": [
        "print(x(8))\n",
        "print(y(7))\n",
        "print(z(5,4))\n",
        "print(a(6,9))\n",
        "print(b(4,4))\n",
        "print(c(9,3))"
      ],
      "execution_count": null,
      "outputs": [
        {
          "output_type": "stream",
          "text": [
            "True\n",
            "True\n",
            "True\n",
            "True\n",
            "True\n",
            "True\n"
          ],
          "name": "stdout"
        }
      ]
    },
    {
      "cell_type": "markdown",
      "metadata": {
        "id": "Y0a9GJU-76Q4"
      },
      "source": [
        "## Monte Carlo\n",
        "\n",
        "*Exercise 7:* Write a \"generator\" function called `generate_function(func,x_min,x_max,N)`, that instead of generating a flat distribution, generates a distribution with functional form coded in `func`. Note that `func` will always be > 0.  \n",
        "\n",
        "Use the test function below and your histogramming functions above to demonstrate that your generator is working properly.\n",
        "\n",
        "Hint: A simple, but slow, solution is to a draw random number test_x within the specified range and another number p between the min and max of the function (which you will have to determine). If p<=function(test_x), then place test_x on the output. If not, repeat the process, drawing two new numbers. Repeat until you have the specified number of generated numbers, N. For this problem, it's OK to determine the min and max by numerically sampling the function.  "
      ]
    },
    {
      "cell_type": "code",
      "metadata": {
        "id": "bgadFEvg76Q5"
      },
      "source": [
        "def generate_function(func,x_min,x_max,N=1000):\n",
        "  out = list()\n",
        "  ### BEGIN SOLUTION\n",
        "  function_data = list()\n",
        "  total = list()\n",
        "  \n",
        "  for _ in range(N):\n",
        "    v = (random.random() * (x_max - x_min) + x_min)\n",
        "    function_data.append(func(v))\n",
        "\n",
        "  y_min = min(function_data)\n",
        "  y_max = max(function_data)\n",
        "\n",
        "\n",
        "\n",
        "  while len(out) < N:\n",
        "    x = (random.random() * (x_max - x_min) + x_min)\n",
        "    y = (random.random() * (y_max - y_min) + y_min)\n",
        "    total.append(x)\n",
        "    if y <= func(x):\n",
        "      out.append(x)\n",
        "    \n",
        "  \n",
        "  ### END SOLUTION\n",
        "    \n",
        "  return out,total,y_min,y_max"
      ],
      "execution_count": 13,
      "outputs": []
    },
    {
      "cell_type": "code",
      "metadata": {
        "id": "IahwRYY876Q8"
      },
      "source": [
        "# A test function\n",
        "def test_func(x,a=1,b=1):\n",
        "    return abs(a*x+b)"
      ],
      "execution_count": 135,
      "outputs": []
    },
    {
      "cell_type": "code",
      "metadata": {
        "id": "ba4dW7WMyMft"
      },
      "source": [
        "out = generate_function(test_func,0,10,1000)\n"
      ],
      "execution_count": 170,
      "outputs": []
    },
    {
      "cell_type": "code",
      "metadata": {
        "id": "F6AFRmcWy52D",
        "outputId": "c879223f-455e-4080-f631-7a6fffaf3871",
        "colab": {
          "base_uri": "https://localhost:8080/",
          "height": 403
        }
      },
      "source": [
        "draw_histogram(out,10)"
      ],
      "execution_count": 171,
      "outputs": [
        {
          "output_type": "stream",
          "text": [
            "0.22779378443437137 9.985442044890727\n",
            "[ 0.227793784434371 , 1.203558610480007 ] : #\n",
            "\n",
            "[ 1.203558610480007 , 2.1793234365256424 ] : ##\n",
            "\n",
            "[ 2.179323436525642 , 3.1550882625712777 ] : ####\n",
            "\n",
            "[ 3.155088262571278 , 4.130853088616914 ] : #######\n",
            "\n",
            "[ 4.130853088616913 , 5.106617914662548 ] : #########\n",
            "\n",
            "[ 5.106617914662548 , 6.082382740708184 ] : ###########\n",
            "\n",
            "[ 6.082382740708185 , 7.058147566753821 ] : ##############\n",
            "\n",
            "[ 7.058147566753821 , 8.033912392799456 ] : ###############\n",
            "\n",
            "[ 8.033912392799456 , 9.009677218845091 ] : ################\n",
            "\n",
            "[ 9.009677218845091 , 9.985442044890727 ] : ####################\n",
            "\n"
          ],
          "name": "stdout"
        }
      ]
    },
    {
      "cell_type": "markdown",
      "metadata": {
        "id": "tEy_zzGi76Q_"
      },
      "source": [
        "*Exercise 8:* Use your function to generate 1000 numbers that are normal distributed, using the `gaussian` function below. Confirm the mean and variance of the data is close to the mean and variance you specify when building the Gaussian. Histogram the data. "
      ]
    },
    {
      "cell_type": "code",
      "metadata": {
        "id": "QaG4ACj376RA",
        "outputId": "058511bf-31cb-4743-c455-056a56cfc1c9",
        "colab": {
          "base_uri": "https://localhost:8080/",
          "height": 35
        }
      },
      "source": [
        "import math\n",
        "\n",
        "def gaussian(mean, sigma):\n",
        "  def f(x):\n",
        "    #x = random.random()\n",
        "    return math.exp(-((x-mean)**2)/(2*sigma**2))/math.sqrt(math.pi*sigma)\n",
        "  return f\n",
        "\n",
        "# Example Instantiation\n",
        "g1=gaussian(0,1)\n",
        "g2=gaussian(10,3)\n",
        "\n",
        "print(g1)"
      ],
      "execution_count": 3,
      "outputs": [
        {
          "output_type": "stream",
          "text": [
            "<function gaussian.<locals>.f at 0x7fe43ceee620>\n"
          ],
          "name": "stdout"
        }
      ]
    },
    {
      "cell_type": "code",
      "metadata": {
        "id": "vsxEg6Kr4V-3",
        "outputId": "854c5928-2168-4e54-8bcc-779134e7ab83",
        "colab": {
          "base_uri": "https://localhost:8080/",
          "height": 54
        }
      },
      "source": [
        "out = list(generate_function(g1,-3,3,1000))\n",
        "out\n",
        "print(min(out))\n",
        "print(max(out))"
      ],
      "execution_count": 11,
      "outputs": [
        {
          "output_type": "stream",
          "text": [
            "-2.684390108029183\n",
            "2.4965175516592577\n"
          ],
          "name": "stdout"
        }
      ]
    },
    {
      "cell_type": "code",
      "metadata": {
        "id": "sRJPKwYBlm2Y",
        "outputId": "8319d627-d22a-4a35-8b8f-e029e754e400",
        "colab": {
          "base_uri": "https://localhost:8080/",
          "height": 623
        }
      },
      "source": [
        "draw_histogram(out,15)\n",
        "print(mean(out))\n",
        "print(variance(out)**(1/2))"
      ],
      "execution_count": 173,
      "outputs": [
        {
          "output_type": "stream",
          "text": [
            "-2.8093447032860492 2.680594369476445\n",
            "[ -2.80934470328604 , -2.443348765101883 ] : \n",
            "\n",
            "[ -2.44334876510188 , -2.077352826917717 ] : #\n",
            "\n",
            "[ -2.07735282691771 , -1.71135688873355 ] : ###\n",
            "\n",
            "[ -1.71135688873355 , -1.345360950549384 ] : #####\n",
            "\n",
            "[ -1.34536095054938 , -0.979365012365217 ] : #########\n",
            "\n",
            "[ -0.97936501236521 , -0.613369074181051 ] : ############\n",
            "\n",
            "[ -0.61336907418105 , -0.247373135996884 ] : ####################\n",
            "\n",
            "[ -0.24737313599688 , 0.1186228021872813 ] : ###################\n",
            "\n",
            "[ 0.118622802187281 , 0.4846187403714476 ] : ##################\n",
            "\n",
            "[ 0.484618740371447 , 0.8506146785556138 ] : #############\n",
            "\n",
            "[ 0.850614678555613 , 1.2166106167397799 ] : ###########\n",
            "\n",
            "[ 1.216610616739780 , 1.5826065549239465 ] : #####\n",
            "\n",
            "[ 1.582606554923947 , 1.9486024931081132 ] : ##\n",
            "\n",
            "[ 1.948602493108112 , 2.314598431292279 ] : #\n",
            "\n",
            "[ 2.314598431292279 , 2.6805943694764456 ] : \n",
            "\n",
            "-0.048645509140826444\n",
            "0.9374514719463815\n"
          ],
          "name": "stdout"
        }
      ]
    },
    {
      "cell_type": "markdown",
      "metadata": {
        "id": "o8Vi2b5k76RE"
      },
      "source": [
        "*Exercise 9:* Combine your `generate_function`, `where`, and `in_range` functions above to create an integrate function. Use your integrate function to show that approximately 68% of Normal distribution is within one variance."
      ]
    },
    {
      "cell_type": "code",
      "metadata": {
        "id": "xAUs6AyL76RF"
      },
      "source": [
        "def integrate(func, x_min, x_max, n_points=1000):\n",
        "  test_points = list()\n",
        " # for _ in range(n_points):\n",
        "    #test_points.append(random.random()*(x_max - x_min) + x_min)\n",
        "\n",
        "  #out, total,y_min,y_max = where(test_points, generate_function(gaussian,x_min,x_max))\n",
        "  def generate_function1(func,x_min,x_max,N=1000):\n",
        "    out = list()\n",
        "    \n",
        "    function_data = list()\n",
        "    total = list()\n",
        "    \n",
        "    for _ in range(N):\n",
        "      v = (random.random() * (x_max - x_min) + x_min)\n",
        "      function_data.append(func(v))\n",
        "\n",
        "    y_min = min(function_data)\n",
        "    y_max = max(function_data)\n",
        "\n",
        "\n",
        "\n",
        "    for _ in range(N):\n",
        "      x = (random.random() * (x_max - x_min) + x_min)\n",
        "      y = (random.random() * (y_max - y_min) + y_min)\n",
        "      total.append(x)\n",
        "      if y <= func(x):\n",
        "        out.append(x)\n",
        "      \n",
        "    \n",
        "      \n",
        "    return out,total, function_data\n",
        "  #function_data = list()\n",
        "  total = list()\n",
        "  y_min = 0\n",
        "  y_max = 1/2\n",
        " # for _ in range(10000):\n",
        "  #  v = (random.random() * (x_max - x_min) + x_min)\n",
        "  #  function_data.append(func(v))\n",
        " \n",
        "  #y_min = min(func)\n",
        "  #y_max = max(func)\n",
        "  out,total, function_data = generate_function1(func,x_min,x_max,n_points)\n",
        "  \n",
        "\n",
        "  integral = (x_max - x_min)*(y_max - y_min)*(len(out)/len(total))\n",
        "  return integral"
      ],
      "execution_count": 62,
      "outputs": []
    },
    {
      "cell_type": "code",
      "metadata": {
        "id": "C4IYIoB176RJ",
        "outputId": "7f9444be-5703-4697-e64e-18367f777a5d",
        "colab": {
          "base_uri": "https://localhost:8080/",
          "height": 35
        }
      },
      "source": [
        "print(integrate(gaussian(0,1),-1,1))"
      ],
      "execution_count": 63,
      "outputs": [
        {
          "output_type": "stream",
          "text": [
            "3.3436000000000003\n"
          ],
          "name": "stdout"
        }
      ]
    }
  ]
}