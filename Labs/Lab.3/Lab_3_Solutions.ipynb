{
  "nbformat": 4,
  "nbformat_minor": 0,
  "metadata": {
    "kernelspec": {
      "display_name": "Python 3",
      "language": "python",
      "name": "python3"
    },
    "language_info": {
      "codemirror_mode": {
        "name": "ipython",
        "version": 3
      },
      "file_extension": ".py",
      "mimetype": "text/x-python",
      "name": "python",
      "nbconvert_exporter": "python",
      "pygments_lexer": "ipython3",
      "version": "3.8.0"
    },
    "colab": {
      "name": "Copy of Lab.3.ipynb",
      "provenance": [],
      "collapsed_sections": []
    }
  },
  "cells": [
    {
      "cell_type": "markdown",
      "metadata": {
        "id": "0K6PjXYzrNh-"
      },
      "source": [
        "# Lab 3- Tic Tac Toe\n",
        "\n",
        "[![Open In Colab](https://colab.research.google.com/assets/colab-badge.svg)](https://colab.research.google.com/github/UTA-DataScience/DATA1401.2020.Fall/blob/master/Labs/Lab.3/Lab.3.ipynb)\n",
        "\n",
        "In this lab your will build a n x n Tic Tac Toe game. As you do the exercises, make sure your solutions work for any size Tic Tac Toe game. "
      ]
    },
    {
      "cell_type": "markdown",
      "metadata": {
        "id": "l7IYrTL2rNiA"
      },
      "source": [
        "*Exercise 1:* Write a function that creates an n by n matrix (of list of lists) which will represent the state of a Tie Tac Toe game. Let 0, 1, and 2 represent empty, \"X\", or \"O\".\n"
      ]
    },
    {
      "cell_type": "code",
      "metadata": {
        "id": "ZG9qbBWCrNiC"
      },
      "source": [
        "# Write you solution here\n",
        "empty = 0\n",
        "X = 1\n",
        "O = 2\n",
        "\n",
        "def make_game_board(row_count,column_count):\n",
        "  empty = 0\n",
        "  board = [[empty]*column_count for i in range(row_count)]\n",
        "  return board"
      ],
      "execution_count": null,
      "outputs": []
    },
    {
      "cell_type": "code",
      "metadata": {
        "id": "q27_7kkvrNiQ",
        "outputId": "1b473ac5-77c7-42b1-9036-cce112bdfa36",
        "colab": {
          "base_uri": "https://localhost:8080/",
          "height": 146
        }
      },
      "source": [
        "# Test your solution here\n",
        "row_count = int(input(\"How many Rows: \"))\n",
        "column_count = int(input(\"How many Columns: \"))\n",
        "lst = make_game_board(row_count,column_count)\n",
        "lst"
      ],
      "execution_count": null,
      "outputs": [
        {
          "output_type": "stream",
          "text": [
            "How many Rows: 5\n",
            "How many Columns: 6\n"
          ],
          "name": "stdout"
        },
        {
          "output_type": "execute_result",
          "data": {
            "text/plain": [
              "[[0, 0, 0, 0, 0, 0],\n",
              " [0, 0, 0, 0, 0, 0],\n",
              " [0, 0, 0, 0, 0, 0],\n",
              " [0, 0, 0, 0, 0, 0],\n",
              " [0, 0, 0, 0, 0, 0]]"
            ]
          },
          "metadata": {
            "tags": []
          },
          "execution_count": 21
        }
      ]
    },
    {
      "cell_type": "markdown",
      "metadata": {
        "id": "NvpRJujhrNiV"
      },
      "source": [
        "*Exercise 2:* Write a function that takes a `n` by `n` matrix representing a tic-tac-toe game, and returns -1, 0, 1, or 2 indicating the game is incomplete, the game is a draw, player 1 has won, or player 2 has one, respectively. Here are some example inputs you can use to test your code:"
      ]
    },
    {
      "cell_type": "code",
      "metadata": {
        "id": "qu5vxvPmrNiY"
      },
      "source": [
        "winner_is_2 = [[2, 2, 0],\n",
        "\t[2, 1, 0],\n",
        "\t[2, 1, 1]]\n",
        "\n",
        "winner_is_2_diagonal = [[2, 2, 0],\n",
        "\t[2, 2, 1],\n",
        "\t[1, 1, 2]]\n",
        "\n",
        "winner_is_1 = [[1, 2, 0],\n",
        "\t[2, 1, 0],\n",
        "\t[2, 1, 1]]\n",
        "\n",
        "winner_is_also_1 = [[0, 1, 0],\n",
        "\t[2, 1, 0],\n",
        "\t[2, 1, 1]]\n",
        "\n",
        "no_winner = [[1, 2, 1],\n",
        "\t[2, 1, 2],\n",
        "\t[2, 1, 2]]\n",
        "\n",
        "also_no_winner = [[1, 2, 0],\n",
        "\t[2, 1, 0],\n",
        "\t[2, 1, ]]"
      ],
      "execution_count": null,
      "outputs": []
    },
    {
      "cell_type": "code",
      "metadata": {
        "id": "0V14Eh9XCNID"
      },
      "source": [
        "starting_board = [[0, 0, 0],\n",
        "\t[0, 0, 0],\n",
        "\t[0, 0, 0]]"
      ],
      "execution_count": null,
      "outputs": []
    },
    {
      "cell_type": "code",
      "metadata": {
        "id": "FojH9tE_rNid"
      },
      "source": [
        "# Write you solution here\n",
        "def win_check(lst):\n",
        "  column_count = 0\n",
        "  row_count = 0\n",
        "  for i in lst:\n",
        "    row_count = len(i)\n",
        "    column_count = column_count + 1\n",
        "  is_there_a_winner = False\n",
        "  winner = -1\n",
        "  game_finished = True\n",
        "  multiply_test = 1\n",
        "  complete_list=list()\n",
        "  for i in lst:\n",
        "    for j in i:\n",
        "      complete_list.append(j)\n",
        "      \n",
        "  #Row win check\n",
        "  for m in range(column_count):\n",
        "    row_list = list(complete_list[column_count*m:column_count*(m+1):1])\n",
        "    #if not(len(row_list) == column_count):\n",
        "      #game_finished = False\n",
        "    multiply_test = 1\n",
        "    for item in row_list:\n",
        "      if item == 0:\n",
        "        game_finished = False\n",
        "      multiply_test = multiply_test * item\n",
        "    if multiply_test == item**column_count and not multiply_test == 0:\n",
        "      is_there_a_winner = True\n",
        "      game_finished = True\n",
        "      winner = int((multiply_test**(1/column_count)))\n",
        "      break\n",
        "\n",
        "  #Column win check\n",
        "  if is_there_a_winner == False and game_finished == False:\n",
        "    for k in range(row_count):\n",
        "      column_list = list(complete_list[k::column_count])\n",
        "      #if not(len(column_list) == row_count):\n",
        "        #game_finished = False\n",
        "      multiply_test = 1\n",
        "      for p in column_list:\n",
        "        if p == 0:\n",
        "          game_finished = False\n",
        "        multiply_test = multiply_test * p\n",
        "      if multiply_test == p**row_count and not multiply_test == 0:\n",
        "        is_there_a_winner = True\n",
        "        game_finished = True\n",
        "        winner = int((multiply_test**(1/row_count)))\n",
        "        break\n",
        "\n",
        "  #Diagonal win check\n",
        "  if row_count == column_count and is_there_a_winner == False and game_finished == False:\n",
        "    #Left diagonal\n",
        "    left_diagonal_list = list(complete_list[::(row_count+1)])\n",
        "    multiply_test = 1\n",
        "    #if len(left_diagonal_list) != row_count:\n",
        "      #game_finished = False\n",
        "    for g in left_diagonal_list:\n",
        "      if g == 0:\n",
        "        game_finished = False\n",
        "      multiply_test = multiply_test * g\n",
        "    if multiply_test == g**row_count and not multiply_test == 0:\n",
        "      is_there_a_winner = True\n",
        "      game_finished = True\n",
        "      winner = int(multiply_test**(1/row_count))\n",
        "    \n",
        "    #Right diagonal\n",
        "    if row_count == column_count and is_there_a_winner == False and game_finished == False: \n",
        "      right_diagonal_list = list(complete_list[(column_count-1):len(complete_list) - column_count + 1:(column_count-1)])\n",
        "      multiply_test = 1\n",
        "      #if len(right_diagonal_list) != row_count:\n",
        "        #game_finished = False\n",
        "      for b in right_diagonal_list:\n",
        "        if b == 0:\n",
        "          game_finished = False\n",
        "        #multiply_test = multiply_test * b\n",
        "      if multiply_test == b**row_count and not multiply_test == 0:\n",
        "        winner = int(multiply_test**(1/row_count))\n",
        "        is_there_a_winner = True\n",
        "        game_finished = True\n",
        "\n",
        "  if is_there_a_winner == False:\n",
        "    winner = 0\n",
        "  if game_finished == False:\n",
        "    winner = -1\n",
        "\n",
        "  return winner"
      ],
      "execution_count": null,
      "outputs": []
    },
    {
      "cell_type": "code",
      "metadata": {
        "id": "EStuDRJvrNih",
        "outputId": "7191203d-b242-437c-d973-1e55e9201561",
        "colab": {
          "base_uri": "https://localhost:8080/",
          "height": 35
        }
      },
      "source": [
        "# Test your solution here\n",
        "lst = winner_is_1\n",
        "print(\"The Winner:\", win_check(lst))"
      ],
      "execution_count": null,
      "outputs": [
        {
          "output_type": "stream",
          "text": [
            "The Winner: 1\n"
          ],
          "name": "stdout"
        }
      ]
    },
    {
      "cell_type": "markdown",
      "metadata": {
        "id": "EfNbWefBrNin"
      },
      "source": [
        "*Exercise 3:* Write a function that takes 2 integers `n` and `m` as input and draws a `n` by `m` game board. For example the following is a 3x3 board:\n",
        "```\n",
        "   --- --- --- \n",
        "  |   |   |   | \n",
        "   --- --- ---  \n",
        "  |   |   |   | \n",
        "   --- --- ---  \n",
        "  |   |   |   | \n",
        "   --- --- --- \n",
        "   ```"
      ]
    },
    {
      "cell_type": "code",
      "metadata": {
        "id": "1F43RG5orNio"
      },
      "source": [
        "# Write you solution here\n",
        "#n being the number of rows, m being the number of columns\n",
        "def draw_board(n,m):\n",
        "  spaces = [' ']\n",
        "  #dashes = [' ---']\n",
        "  pipe = ['|']\n",
        "  game_board = list()\n",
        "  line = list()\n",
        " # dash = list(dashes * column_count)\n",
        "\n",
        "  print(' ---  '*column_count)\n",
        "\n",
        "  for k in range(row_count):\n",
        "    for l in range(column_count):\n",
        "      print('|','_','|',end = \" \")\n",
        "    print()\n",
        "    print(' ---  '*column_count)\n",
        "    \n",
        "\n",
        "\n",
        "\n"
      ],
      "execution_count": null,
      "outputs": []
    },
    {
      "cell_type": "code",
      "metadata": {
        "id": "o5b5yV8mrNis",
        "outputId": "7354f2b0-be7f-4ce5-f8af-c59c6ff7ddce",
        "colab": {
          "base_uri": "https://localhost:8080/"
        }
      },
      "source": [
        "# Test your solution here\n",
        "row_count = 3\n",
        "column_count = 3\n",
        "draw_board(row_count,column_count)\n"
      ],
      "execution_count": null,
      "outputs": [
        {
          "output_type": "stream",
          "text": [
            " ---   ---   ---  \n",
            "| _ | | _ | | _ | \n",
            " ---   ---   ---  \n",
            "| _ | | _ | | _ | \n",
            " ---   ---   ---  \n",
            "| _ | | _ | | _ | \n",
            " ---   ---   ---  \n"
          ],
          "name": "stdout"
        }
      ]
    },
    {
      "cell_type": "markdown",
      "metadata": {
        "id": "QkH_sjW8rNiw"
      },
      "source": [
        "*Exercise 4:* Modify exercise 3, so that it takes a matrix of the form from exercise 2 and draws a tic-tac-tie board with \"X\"s and \"O\"s.  "
      ]
    },
    {
      "cell_type": "code",
      "metadata": {
        "id": "7VLqW0OxrNix"
      },
      "source": [
        "# Write you solution here\n",
        "def write_board(lst):\n",
        "  complete_list=list()\n",
        "  column_count = 0\n",
        "  row_count = 0\n",
        "  for i in lst:\n",
        "    row_count = len(i)\n",
        "    column_count = column_count + 1\n",
        "  \n",
        "  player_1_piece=\"X\"\n",
        "  player_2_piece=\"O\"\n",
        "  empty_space=\"_\"\n",
        "\n",
        "  space_character= { 1: player_1_piece,\n",
        "                    2: player_2_piece,\n",
        "                    0: empty_space }\n",
        "  spaces = [' ']\n",
        "\n",
        "  pipe = ['|']\n",
        "  game_board = list()\n",
        "  line = list()\n",
        "\n",
        "\n",
        "  print(' ---  '*column_count)\n",
        "\n",
        "  for k in range(row_count):\n",
        "    for l in range(column_count):\n",
        "      print('|',space_character[lst[k][l]],'|',end = \" \")\n",
        "    print()\n",
        "    print(' ---  '*column_count)\n",
        "\n",
        "\n"
      ],
      "execution_count": null,
      "outputs": []
    },
    {
      "cell_type": "code",
      "metadata": {
        "id": "FTormeNtrNi0",
        "outputId": "945c5b9b-08c3-4abb-b897-05a43f7623c0",
        "colab": {
          "base_uri": "https://localhost:8080/"
        }
      },
      "source": [
        "# Test your solution here\n",
        "lst = winner_is_1\n",
        "write_board(lst)"
      ],
      "execution_count": null,
      "outputs": [
        {
          "output_type": "stream",
          "text": [
            " ---   ---   ---  \n",
            "| X | | O | | _ | \n",
            " ---   ---   ---  \n",
            "| O | | X | | _ | \n",
            " ---   ---   ---  \n",
            "| O | | X | | X | \n",
            " ---   ---   ---  \n"
          ],
          "name": "stdout"
        }
      ]
    },
    {
      "cell_type": "markdown",
      "metadata": {
        "id": "A58DSZ5NrNi4"
      },
      "source": [
        "*Exercise 5:* Write a function that takes a game board, player number, and `(x,y)` coordinates and places \"X\" or \"O\" in the correct location of the game board. Make sure that you only allow filling previously empty locations. Return `True` or `False` to indicate successful placement of \"X\" or \"O\"."
      ]
    },
    {
      "cell_type": "code",
      "metadata": {
        "id": "foTI9zI_rNi6"
      },
      "source": [
        "# Write you solution here\n",
        "def play_move(lst,player_number,x_coordinate,y_coordinate):\n",
        "\n",
        "  column_count = 0\n",
        "  row_count = 0\n",
        "\n",
        "\n",
        "  if lst[x_coordinate][y_coordinate] == 0:\n",
        "    move_possible = True\n",
        "  if not lst[x_coordinate][y_coordinate] == 0:\n",
        "    move_possible = False\n",
        "\n",
        "  if move_possible == True:\n",
        "    if player_number == 1:\n",
        "      lst[x_coordinate][y_coordinate] = 1\n",
        "    if player_number == 2:\n",
        "      lst[x_coordinate][y_coordinate] = 2\n",
        "    \n",
        "  for i in lst:\n",
        "    row_count = len(i)\n",
        "    column_count = column_count + 1\n",
        "  \n",
        "  player_1_piece=\"X\"\n",
        "  player_2_piece=\"O\"\n",
        "  empty_space=\"_\"\n",
        "\n",
        "  space_character= { 1: player_1_piece,\n",
        "                    2: player_2_piece,\n",
        "                    0: empty_space }\n",
        "\n",
        "  print(' ---  '*column_count)\n",
        "\n",
        "  for k in range(row_count):\n",
        "    for l in range(column_count):\n",
        "      print('|',space_character[lst[k][l]],'|',end = \" \")\n",
        "    print()\n",
        "    print(' ---  '*column_count)\n",
        "\n",
        "\n",
        "  return move_possible"
      ],
      "execution_count": null,
      "outputs": []
    },
    {
      "cell_type": "code",
      "metadata": {
        "id": "WKtHhoimrNjA",
        "outputId": "971ff3c5-35bf-4475-992a-f0b450662825",
        "colab": {
          "base_uri": "https://localhost:8080/"
        }
      },
      "source": [
        "# Test your solution here\n",
        "lst = winner_is_1\n",
        "player_number = 1\n",
        "x_coordinate = 0\n",
        "y_coordinate = 2\n",
        "play_move(lst,player_number,x_coordinate,y_coordinate)"
      ],
      "execution_count": null,
      "outputs": [
        {
          "output_type": "stream",
          "text": [
            " ---   ---   ---  \n",
            "| X | | O | | X | \n",
            " ---   ---   ---  \n",
            "| O | | X | | _ | \n",
            " ---   ---   ---  \n",
            "| O | | X | | X | \n",
            " ---   ---   ---  \n"
          ],
          "name": "stdout"
        },
        {
          "output_type": "execute_result",
          "data": {
            "text/plain": [
              "False"
            ]
          },
          "metadata": {
            "tags": []
          },
          "execution_count": 109
        }
      ]
    },
    {
      "cell_type": "markdown",
      "metadata": {
        "id": "isRVGAkirNjE"
      },
      "source": [
        "*Exercise 6:* Modify Exercise 4 to show column and row labels so that players can specify location using \"A2\" or \"C1\"."
      ]
    },
    {
      "cell_type": "code",
      "metadata": {
        "id": "LlUkHqzHrNjF"
      },
      "source": [
        "# Write you solution here\n",
        "def create_board(lst):\n",
        "  \n",
        "  column_count = 0\n",
        "  row_count = 0\n",
        "  for i in lst:\n",
        "    row_count = len(i)\n",
        "    column_count = column_count + 1\n",
        "\n",
        "\n",
        "  row_names=list(\"ABCDEFGHIJKLMNOPQRSTUVWXYZ\")\n",
        "  row_map=dict(zip(row_names,range(row_count)))\n",
        "\n",
        "  column_names=list(map(str,range(1,column_count+1)))\n",
        "  column_map=dict(zip(column_names,range(column_count)))\n",
        "\n",
        "\n",
        "\n",
        "  print(\" \",end=\" \")\n",
        "  for j in range(column_count):\n",
        "    print(' ',column_names[j],' ',end=\" \")\n",
        "  print()\n",
        "  \n",
        "  player_1_piece=\"X\"\n",
        "  player_2_piece=\"O\"\n",
        "  empty_space=\"_\"\n",
        "\n",
        "  space_character= { 1: player_1_piece,\n",
        "                    2: player_2_piece,\n",
        "                    0: empty_space }\n",
        "\n",
        "  print('   ---'*column_count)\n",
        "\n",
        "  for k in range(row_count):\n",
        "    print(row_names[k],end=\" \")\n",
        "    for l in range(column_count):\n",
        "      print('|',space_character[lst[k][l]],'|',end = \" \")\n",
        "    print()\n",
        "    print('   ---'*column_count)"
      ],
      "execution_count": null,
      "outputs": []
    },
    {
      "cell_type": "code",
      "metadata": {
        "id": "bw0uCK-trNjI",
        "outputId": "f45de924-ef07-47d4-a890-6afa88376f2c",
        "colab": {
          "base_uri": "https://localhost:8080/"
        }
      },
      "source": [
        "# Test your solution here\n",
        "lst = winner_is_1\n",
        "create_board(lst)"
      ],
      "execution_count": null,
      "outputs": [
        {
          "output_type": "stream",
          "text": [
            "    1     2     3   \n",
            "   ---   ---   ---\n",
            "A | X | | O | | X | \n",
            "   ---   ---   ---\n",
            "B | O | | X | | _ | \n",
            "   ---   ---   ---\n",
            "C | O | | X | | X | \n",
            "   ---   ---   ---\n"
          ],
          "name": "stdout"
        }
      ]
    },
    {
      "cell_type": "markdown",
      "metadata": {
        "id": "tmGEDzIvrNjN"
      },
      "source": [
        "*Exercise 7:* Write a function that takes a board, player number, and location specified as in exercise 6 and then calls exercise 5 to correctly modify the board.  "
      ]
    },
    {
      "cell_type": "code",
      "metadata": {
        "id": "Mjgei8XKrNjO"
      },
      "source": [
        "# Write you solution here\n",
        "def make_a_move(lst,player_number,location):\n",
        "\n",
        "  row_count = 0\n",
        "  column_count = 0\n",
        "\n",
        "  for i in lst:\n",
        "    row_count = len(i)\n",
        "    column_count = column_count + 1\n",
        "    \n",
        "  row=location[0].upper()\n",
        "  col=location[1].upper()\n",
        "\n",
        "  row_names=list(\"ABCDEFGHIJKLMNOPQRSTUVWXYZ\")\n",
        "  row_map=dict(zip(row_names,range(row_count)))\n",
        "\n",
        "  column_names=list(map(str,range(1,column_count+1)))\n",
        "  column_map=dict(zip(column_names,range(column_count)))\n",
        "\n",
        "  if not row in row_names:\n",
        "    print_message(\"Bad Row.\")\n",
        "    return False\n",
        "\n",
        "  if not col in column_names:\n",
        "    print_message(\"Bad Column.\")\n",
        "    return False\n",
        "  \n",
        "  x_coordinate = row_map[row]\n",
        "  y_coordinate = column_map[col]\n",
        "\n",
        "  column_count = 0\n",
        "  row_count = 0\n",
        "\n",
        "\n",
        "  if lst[x_coordinate][y_coordinate] == 0:\n",
        "    move_possible = True\n",
        "  if not lst[x_coordinate][y_coordinate] == 0:\n",
        "    move_possible = False\n",
        "\n",
        "  if move_possible == True:\n",
        "    if player_number == 1:\n",
        "      lst[x_coordinate][y_coordinate] = 1\n",
        "    if player_number == 2:\n",
        "      lst[x_coordinate][y_coordinate] = 2\n",
        "    \n",
        "  for i in lst:\n",
        "    row_count = len(i)\n",
        "    column_count = column_count + 1\n",
        "  \n",
        "  player_1_piece=\"X\"\n",
        "  player_2_piece=\"O\"\n",
        "  empty_space=\"_\"\n",
        "\n",
        "  space_character= { 1: player_1_piece,\n",
        "                    2: player_2_piece,\n",
        "                    0: empty_space }\n",
        "\n",
        "\n",
        "\n",
        "  print(\" \",end=\" \")\n",
        "  for j in range(column_count):\n",
        "    print(' ',column_names[j],' ',end=\" \")\n",
        "  print()\n",
        "  print('   ---'*column_count)\n",
        "  for k in range(row_count):\n",
        "    print(row_names[k],end=\" \")\n",
        "    for l in range(column_count):\n",
        "      print('|',space_character[lst[k][l]],'|',end = \" \")\n",
        "    print()\n",
        "    print('   ---'*column_count)\n",
        "    \n",
        "  \n",
        "  "
      ],
      "execution_count": null,
      "outputs": []
    },
    {
      "cell_type": "code",
      "metadata": {
        "id": "DIo4EqRxrNjR",
        "outputId": "43ef203f-349f-410c-dab4-5477290a6bd3",
        "colab": {
          "base_uri": "https://localhost:8080/",
          "height": 164
        }
      },
      "source": [
        "# Test your solution here\n",
        "lst = starting_board\n",
        "player_number = 2\n",
        "location = 'C2'\n",
        "make_a_move(lst,player_number,location)"
      ],
      "execution_count": null,
      "outputs": [
        {
          "output_type": "stream",
          "text": [
            "    1     2     3   \n",
            "   ---   ---   ---\n",
            "A | _ | | _ | | _ | \n",
            "   ---   ---   ---\n",
            "B | _ | | _ | | _ | \n",
            "   ---   ---   ---\n",
            "C | _ | | O | | _ | \n",
            "   ---   ---   ---\n"
          ],
          "name": "stdout"
        }
      ]
    },
    {
      "cell_type": "code",
      "metadata": {
        "id": "RL4WBAUzgFbp"
      },
      "source": [
        "lst.clear()"
      ],
      "execution_count": null,
      "outputs": []
    },
    {
      "cell_type": "markdown",
      "metadata": {
        "id": "3zYRoFnLrNjU"
      },
      "source": [
        "*Exercise 8:* Write a function is called with a board and player number, takes input from the player using python's `input`, and modifies the board using your function from exercise 7. Note that you should keep asking for input until you have gotten a valid input that results in a valid move."
      ]
    },
    {
      "cell_type": "code",
      "metadata": {
        "id": "6iEgSwLprNjV"
      },
      "source": [
        "# Write you solution here\n",
        "def check_move(board,coordinates):\n",
        "\n",
        "  row_count = 0\n",
        "  column_count = 0\n",
        "\n",
        "  for i in board:\n",
        "    row_count = len(i)\n",
        "    column_count = column_count + 1\n",
        "\n",
        "  row=coordinates[0].upper()\n",
        "  col=coordinates[1].upper()\n",
        "\n",
        "  row_names=list(\"ABCDEFGHIJKLMNOPQRSTUVWXYZ\")\n",
        "  row_map=dict(zip(row_names,range(row_count)))\n",
        "\n",
        "  column_names=list(map(str,range(1,column_count+1)))\n",
        "  column_map=dict(zip(column_names,range(column_count)))\n",
        "\n",
        "  if not row in row_names:\n",
        "    return False\n",
        "\n",
        "  if not col in column_names:\n",
        "    return False\n",
        "\n",
        "  x_coordinate = row_map[row]\n",
        "  y_coordinate = column_map[col]\n",
        "\n",
        "  column_count = 0\n",
        "  row_count = 0\n",
        "\n",
        "  if lst[x_coordinate][y_coordinate] == 0:\n",
        "    return True\n",
        "  if not lst[x_coordinate][y_coordinate] == 0:\n",
        "    return False\n",
        "\n",
        "# Write you solution here\n",
        "def make_a_move(lst,player_number,coordinates):\n",
        "\n",
        "  row_count = 0\n",
        "  column_count = 0\n",
        "\n",
        "  for i in lst:\n",
        "    row_count = len(i)\n",
        "    column_count = column_count + 1\n",
        "    \n",
        "  row=coordinates[0].upper()\n",
        "  col=coordinates[1].upper()\n",
        "\n",
        "  row_names=list(\"ABCDEFGHIJKLMNOPQRSTUVWXYZ\")\n",
        "  row_map=dict(zip(row_names,range(row_count)))\n",
        "\n",
        "  column_names=list(map(str,range(1,column_count+1)))\n",
        "  column_map=dict(zip(column_names,range(column_count)))\n",
        "\n",
        "  if not row in row_names:\n",
        "    print_message(\"Bad Row.\")\n",
        "    return False\n",
        "\n",
        "  if not col in column_names:\n",
        "    print_message(\"Bad Column.\")\n",
        "    return False\n",
        "  \n",
        "  x_coordinate = row_map[row]\n",
        "  y_coordinate = column_map[col]\n",
        "\n",
        "  column_count = 0\n",
        "  row_count = 0\n",
        "\n",
        "\n",
        "  if lst[x_coordinate][y_coordinate] == 0:\n",
        "    move_possible = True\n",
        "  if not lst[x_coordinate][y_coordinate] == 0:\n",
        "    move_possible = False\n",
        "\n",
        "  if move_possible == True:\n",
        "    if player_number == 1:\n",
        "      lst[x_coordinate][y_coordinate] = 1\n",
        "    if player_number == 2:\n",
        "      lst[x_coordinate][y_coordinate] = 2\n",
        "    \n",
        "  for i in lst:\n",
        "    row_count = len(i)\n",
        "    column_count = column_count + 1\n",
        "  \n",
        "  player_1_piece=\"X\"\n",
        "  player_2_piece=\"O\"\n",
        "  empty_space=\"_\"\n",
        "\n",
        "  space_character= { 1: player_1_piece,\n",
        "                    2: player_2_piece,\n",
        "                    0: empty_space }\n",
        "\n",
        "  print(lst)\n",
        "\n",
        "  print(\" \",end=\" \")\n",
        "  for j in range(column_count):\n",
        "    print(' ',column_names[j],' ',end=\" \")\n",
        "  print()\n",
        "  print('   ---'*column_count)\n",
        "  for k in range(row_count):\n",
        "    print(row_names[k],end=\" \")\n",
        "    for l in range(column_count):\n",
        "      print('|',space_character[lst[k][l]],'|',end = \" \")\n",
        "    print()\n",
        "    print('   ---'*column_count)\n",
        "    \n",
        "  \n",
        "  "
      ],
      "execution_count": null,
      "outputs": []
    },
    {
      "cell_type": "code",
      "metadata": {
        "id": "_f6wW16rrNjd",
        "outputId": "8d37b6a0-b1e9-4edd-b104-8293dae91400",
        "colab": {
          "base_uri": "https://localhost:8080/",
          "height": 237
        }
      },
      "source": [
        "# Test your solution here\n",
        "lst = starting_board\n",
        "player_number = int(input(\"Who wants to start? Player: \"))\n",
        "while not (player_number == 1 or  player_number == 2):\n",
        "  player_number = int(input(\"An Error Occoured, Please enter another Player Number: \"))\n",
        "\n",
        "coordinates = str(input(print(\"Where would Player\",player_number,\" like to move: \")))\n",
        "while move_good == False:\n",
        "  move_good = check_move(lst,coordinates)\n",
        "  if move_good == False:\n",
        "    coordinates = str(input(print(\"An Error Occoured. Where would Player\",player_number,\" like to move: \")))\n",
        "  if move_good == True:\n",
        "    break\n",
        "make_a_move(lst,player_number,coordinates)\n",
        "\n"
      ],
      "execution_count": null,
      "outputs": [
        {
          "output_type": "stream",
          "text": [
            "Who wants to start? Player: 2\n",
            "Where would Player 2  like to move: \n",
            "c1\n",
            "[[1, 1, 0], [0, 0, 0], [2, 0, 2]]\n",
            "    1     2     3   \n",
            "   ---   ---   ---\n",
            "A | X | | X | | _ | \n",
            "   ---   ---   ---\n",
            "B | _ | | _ | | _ | \n",
            "   ---   ---   ---\n",
            "C | O | | _ | | O | \n",
            "   ---   ---   ---\n"
          ],
          "name": "stdout"
        }
      ]
    },
    {
      "cell_type": "markdown",
      "metadata": {
        "id": "pTCrtJmCrNjj"
      },
      "source": [
        "*Exercise 9:* Use all of the previous exercises to implement a full tic-tac-toe game, where an appropriate board is drawn, 2 players are repeatedly asked for a location coordinates of where they wish to place a mark, and the game status is checked until a player wins or a draw occurs."
      ]
    },
    {
      "cell_type": "code",
      "metadata": {
        "id": "jMD4EPBrrNjk"
      },
      "source": [
        "# Write you solution here\n",
        "def make_game_board(row_count,column_count):\n",
        "  empty = 0\n",
        "  board = [[empty]*column_count for i in range(row_count)]\n",
        "  return board\n",
        "\n",
        "\n",
        "def check_move(board,coordinates):\n",
        "\n",
        "  row_count = 0\n",
        "  column_count = 0\n",
        "\n",
        "  for i in board:\n",
        "    row_count = len(i)\n",
        "    column_count = column_count + 1\n",
        "\n",
        "  row=coordinates[0].upper()\n",
        "  col=coordinates[1].upper()\n",
        "\n",
        "  row_names=list(\"ABCDEFGHIJKLMNOPQRSTUVWXYZ\")\n",
        "  row_map=dict(zip(row_names,range(row_count)))\n",
        "\n",
        "  column_names=list(map(str,range(1,column_count+1)))\n",
        "  column_map=dict(zip(column_names,range(column_count)))\n",
        "\n",
        "  if not row in row_names:\n",
        "    return False\n",
        "\n",
        "  if not col in column_names:\n",
        "    return False\n",
        "\n",
        "  x_coordinate = row_map[row]\n",
        "  y_coordinate = column_map[col]\n",
        "\n",
        "  column_count = 0\n",
        "  row_count = 0\n",
        "\n",
        "  if lst[x_coordinate][y_coordinate] == 0:\n",
        "    return True\n",
        "  if not lst[x_coordinate][y_coordinate] == 0:\n",
        "    return False\n",
        "\n",
        "\n",
        "\n",
        "def make_a_move(lst,player_number,coordinates):\n",
        "\n",
        "  row_count = 0\n",
        "  column_count = 0\n",
        "\n",
        "  for i in lst:\n",
        "    row_count = len(i)\n",
        "    column_count = column_count + 1\n",
        "    \n",
        "  row=coordinates[0].upper()\n",
        "  col=coordinates[1].upper()\n",
        "\n",
        "  row_names=list(\"ABCDEFGHIJKLMNOPQRSTUVWXYZ\")\n",
        "  row_map=dict(zip(row_names,range(row_count)))\n",
        "\n",
        "  column_names=list(map(str,range(1,column_count+2)))\n",
        "  column_map=dict(zip(column_names,range(column_count)))\n",
        "\n",
        "  if not row in row_names:\n",
        "    print_message(\"Bad Row.\")\n",
        "    return False\n",
        "\n",
        "  if not col in column_names:\n",
        "    print_message(\"Bad Column.\")\n",
        "    return False\n",
        "  \n",
        "  x_coordinate = row_map[row]\n",
        "  y_coordinate = column_map[col]\n",
        "\n",
        "  column_count = 0\n",
        "  row_count = 0\n",
        "\n",
        "\n",
        "  if lst[x_coordinate][y_coordinate] == 0:\n",
        "    move_possible = True\n",
        "  if not lst[x_coordinate][y_coordinate] == 0:\n",
        "    move_possible = False\n",
        "\n",
        "  if move_possible == True:\n",
        "    if player_number == 1:\n",
        "      lst[x_coordinate][y_coordinate] = 1\n",
        "    if player_number == 2:\n",
        "      lst[x_coordinate][y_coordinate] = 2\n",
        "    \n",
        "  for i in lst:\n",
        "    row_count = len(i)\n",
        "    column_count = column_count + 1\n",
        "  \n",
        "  player_1_piece=\"X\"\n",
        "  player_2_piece=\"O\"\n",
        "  empty_space=\"_\"\n",
        "\n",
        "  space_character= { 1: player_1_piece,\n",
        "                    2: player_2_piece,\n",
        "                    0: empty_space }\n",
        "\n",
        "\n",
        "  if  row_count == column_count:\n",
        "    print(\" \",end=\" \")\n",
        "    for j in range(column_count):\n",
        "      print(' ',column_names[j],' ',end=\" \")\n",
        "    print()\n",
        "    print('   ---'*(column_count))\n",
        "\n",
        "    for k in range(column_count):\n",
        "      print(row_names[k],end=\" \")\n",
        "      for l in range(row_count):\n",
        "        print('|',space_character[lst[k][l]],'|',end = \" \")\n",
        "      print()\n",
        "      print('   ---'*(column_count))\n",
        "\n",
        "  if not row_count == column_count:\n",
        "    print(\" \",end=\" \")\n",
        "    for j in range(column_count+1):\n",
        "      print(' ',column_names[j],' ',end=\" \")\n",
        "    print()\n",
        "    print('   ---'*(column_count+1))\n",
        "\n",
        "    for k in range(column_count):\n",
        "      print(row_names[k],end=\" \")\n",
        "      for l in range(row_count):\n",
        "        print('|',space_character[lst[k][l]],'|',end = \" \")\n",
        "      print()\n",
        "      print('   ---'*(column_count+1))\n",
        "    \n",
        "\n",
        "    \n",
        "def win_check(lst):\n",
        "  column_count = 0\n",
        "  row_count = 0\n",
        "  for i in lst:\n",
        "    row_count = len(i)\n",
        "    column_count = column_count + 1\n",
        "  is_there_a_winner = False\n",
        "  winner = -1\n",
        "  game_finished = True\n",
        "  multiply_test = 1\n",
        "  complete_list=list()\n",
        "  for i in lst:\n",
        "    for j in i:\n",
        "      complete_list.append(j)\n",
        "      \n",
        "  #Row win check\n",
        "  for m in range(column_count):\n",
        "    row_list = list(complete_list[column_count*m:column_count*(m+1):1])\n",
        "    #if not(len(row_list) == column_count):\n",
        "      #game_finished = False\n",
        "    multiply_test = 1\n",
        "    for item in row_list:\n",
        "      if item == 0:\n",
        "        game_finished = False\n",
        "      multiply_test = multiply_test * item\n",
        "    if multiply_test == item**column_count and not multiply_test == 0:\n",
        "      is_there_a_winner = True\n",
        "      game_finished = True\n",
        "      winner = int((multiply_test**(1/column_count)))\n",
        "      break\n",
        "\n",
        "  #Column win check\n",
        "  if is_there_a_winner == False and game_finished == False:\n",
        "    for k in range(row_count):\n",
        "      column_list = list(complete_list[k::column_count])\n",
        "      #if not(len(column_list) == row_count):\n",
        "        #game_finished = False\n",
        "      multiply_test = 1\n",
        "      for p in column_list:\n",
        "        if p == 0:\n",
        "          game_finished = False\n",
        "        multiply_test = multiply_test * p\n",
        "      if multiply_test == p**row_count and not multiply_test == 0:\n",
        "        is_there_a_winner = True\n",
        "        game_finished = True\n",
        "        winner = int((multiply_test**(1/row_count)))\n",
        "        break\n",
        "\n",
        "  #Diagonal win check\n",
        "  if row_count == column_count and is_there_a_winner == False and game_finished == False:\n",
        "    #Left diagonal\n",
        "    left_diagonal_list = list(complete_list[::(row_count+1)])\n",
        "    multiply_test = 1\n",
        "    #if len(left_diagonal_list) != row_count:\n",
        "      #game_finished = False\n",
        "    for g in left_diagonal_list:\n",
        "      if g == 0:\n",
        "        game_finished = False\n",
        "      multiply_test = multiply_test * g\n",
        "    if multiply_test == g**row_count and not multiply_test == 0:\n",
        "      is_there_a_winner = True\n",
        "      game_finished = True\n",
        "      winner = int(multiply_test**(1/row_count))\n",
        "    \n",
        "    #Right diagonal\n",
        "    if row_count == column_count and is_there_a_winner == False and game_finished == False: \n",
        "      right_diagonal_list = list(complete_list[(column_count-1):len(complete_list) - column_count + 1:(column_count-1)])\n",
        "      multiply_test = 1\n",
        "      #if len(right_diagonal_list) != row_count:\n",
        "        #game_finished = False\n",
        "      for b in right_diagonal_list:\n",
        "        if b == 0:\n",
        "          game_finished = False\n",
        "        #multiply_test = multiply_test * b\n",
        "      if multiply_test == b**row_count and not multiply_test == 0:\n",
        "        winner = int(multiply_test**(1/row_count))\n",
        "        is_there_a_winner = True\n",
        "        game_finished = True\n",
        "\n",
        "  if is_there_a_winner == False:\n",
        "    winner = 0\n",
        "  if game_finished == False:\n",
        "    winner = -1\n",
        "\n",
        "  return winner\n",
        "  "
      ],
      "execution_count": 1,
      "outputs": []
    },
    {
      "cell_type": "code",
      "metadata": {
        "id": "KmefHPchrNjn",
        "outputId": "cff8283c-4cda-41d5-d761-0ece6943d9a3",
        "colab": {
          "base_uri": "https://localhost:8080/",
          "height": 1000
        }
      },
      "source": [
        "# Test your solution here\n",
        "game_finished = False\n",
        "move_good = False\n",
        "row_count = int(input(\"How many Rows: \"))\n",
        "column_count = int(input(\"How many Columns: \"))\n",
        "lst = make_game_board(row_count,column_count)\n",
        "\n",
        "player_number = int(input(\"Who wants to start? Player: \"))\n",
        "while not (player_number == 1 or  player_number == 2):\n",
        "  player_number = int(input(\"An Error Occoured, Please enter another Player Number: \"))\n",
        "while game_finished == False:\n",
        "  coordinates = str(input(print(\"Where would Player\",player_number,\" like to move: \")))\n",
        "  while move_good == False:\n",
        "    move_good = check_move(lst,coordinates)\n",
        "    if move_good == False:\n",
        "      coordinates = str(input(print(\"An Error Occoured. Where would Player\",player_number,\" like to move: \")))\n",
        "    if move_good == True:\n",
        "      break\n",
        "  make_a_move(lst,player_number,coordinates)\n",
        "\n",
        "  if player_number == 1:\n",
        "    player_number = 2\n",
        "  else:\n",
        "    player_number = 1\n",
        "\n",
        "  winner = win_check(lst)\n",
        "\n",
        "  if winner == 1 or winner == 2 or winner == 0:\n",
        "    break\n",
        "\n",
        "print(\"Congratulations, Player \",winner,\" You Win!\")"
      ],
      "execution_count": 3,
      "outputs": [
        {
          "output_type": "stream",
          "text": [
            "How many Rows: 3\n",
            "How many Columns: 3\n",
            "Who wants to start? Player: 1\n",
            "Where would Player 1  like to move: \n",
            "a1\n",
            "    1     2     3   \n",
            "   ---   ---   ---\n",
            "A | X | | _ | | _ | \n",
            "   ---   ---   ---\n",
            "B | _ | | _ | | _ | \n",
            "   ---   ---   ---\n",
            "C | _ | | _ | | _ | \n",
            "   ---   ---   ---\n",
            "Where would Player 2  like to move: \n",
            "b1\n",
            "    1     2     3   \n",
            "   ---   ---   ---\n",
            "A | X | | _ | | _ | \n",
            "   ---   ---   ---\n",
            "B | O | | _ | | _ | \n",
            "   ---   ---   ---\n",
            "C | _ | | _ | | _ | \n",
            "   ---   ---   ---\n",
            "Where would Player 1  like to move: \n",
            "b2\n",
            "    1     2     3   \n",
            "   ---   ---   ---\n",
            "A | X | | _ | | _ | \n",
            "   ---   ---   ---\n",
            "B | O | | X | | _ | \n",
            "   ---   ---   ---\n",
            "C | _ | | _ | | _ | \n",
            "   ---   ---   ---\n",
            "Where would Player 2  like to move: \n",
            "c1\n",
            "    1     2     3   \n",
            "   ---   ---   ---\n",
            "A | X | | _ | | _ | \n",
            "   ---   ---   ---\n",
            "B | O | | X | | _ | \n",
            "   ---   ---   ---\n",
            "C | O | | _ | | _ | \n",
            "   ---   ---   ---\n",
            "Where would Player 1  like to move: \n",
            "c3\n",
            "    1     2     3   \n",
            "   ---   ---   ---\n",
            "A | X | | _ | | _ | \n",
            "   ---   ---   ---\n",
            "B | O | | X | | _ | \n",
            "   ---   ---   ---\n",
            "C | O | | _ | | X | \n",
            "   ---   ---   ---\n",
            "Congratulations, Player  1  You Win!\n"
          ],
          "name": "stdout"
        }
      ]
    },
    {
      "cell_type": "markdown",
      "metadata": {
        "id": "lryaI3ANrNjs"
      },
      "source": [
        "*Exercise 10:* Test that your game works for 5x5 Tic Tac Toe.  "
      ]
    },
    {
      "cell_type": "code",
      "metadata": {
        "id": "Ywac1cwprNju",
        "outputId": "f54d8734-eeac-4a1e-d62a-49692ce18ff9",
        "colab": {
          "base_uri": "https://localhost:8080/",
          "height": 1000
        }
      },
      "source": [
        "# Test your solution here\n",
        "game_finished = False\n",
        "move_good = False\n",
        "row_count = int(input(\"How many Rows: \"))\n",
        "column_count = int(input(\"How many Columns: \"))\n",
        "lst = make_game_board(row_count,column_count)\n",
        "\n",
        "player_number = int(input(\"Who wants to start? Player: \"))\n",
        "while not (player_number == 1 or  player_number == 2):\n",
        "  player_number = int(input(\"An Error Occoured, Please enter another Player Number: \"))\n",
        "while game_finished == False:\n",
        "  coordinates = str(input(print(\"Where would Player\",player_number,\" like to move: \")))\n",
        "  while move_good == False:\n",
        "    move_good = check_move(lst,coordinates)\n",
        "    if move_good == False:\n",
        "      coordinates = str(input(print(\"An Error Occoured. Where would Player\",player_number,\" like to move: \")))\n",
        "    if move_good == True:\n",
        "      break\n",
        "  make_a_move(lst,player_number,coordinates)\n",
        "\n",
        "  if player_number == 1:\n",
        "    player_number = 2\n",
        "  else:\n",
        "    player_number = 1\n",
        "\n",
        "  winner = win_check(lst)\n",
        "\n",
        "  if winner == 1 or winner == 2 or winner == 0:\n",
        "    break\n",
        "\n",
        "print(\"Congratulations, Player \",winner,\" You Win!\")"
      ],
      "execution_count": 4,
      "outputs": [
        {
          "output_type": "stream",
          "text": [
            "How many Rows: 5\n",
            "How many Columns: 5\n",
            "Who wants to start? Player: 1\n",
            "Where would Player 1  like to move: \n",
            "a1\n",
            "    1     2     3     4     5   \n",
            "   ---   ---   ---   ---   ---\n",
            "A | X | | _ | | _ | | _ | | _ | \n",
            "   ---   ---   ---   ---   ---\n",
            "B | _ | | _ | | _ | | _ | | _ | \n",
            "   ---   ---   ---   ---   ---\n",
            "C | _ | | _ | | _ | | _ | | _ | \n",
            "   ---   ---   ---   ---   ---\n",
            "D | _ | | _ | | _ | | _ | | _ | \n",
            "   ---   ---   ---   ---   ---\n",
            "E | _ | | _ | | _ | | _ | | _ | \n",
            "   ---   ---   ---   ---   ---\n",
            "Where would Player 2  like to move: \n",
            "b1\n",
            "    1     2     3     4     5   \n",
            "   ---   ---   ---   ---   ---\n",
            "A | X | | _ | | _ | | _ | | _ | \n",
            "   ---   ---   ---   ---   ---\n",
            "B | O | | _ | | _ | | _ | | _ | \n",
            "   ---   ---   ---   ---   ---\n",
            "C | _ | | _ | | _ | | _ | | _ | \n",
            "   ---   ---   ---   ---   ---\n",
            "D | _ | | _ | | _ | | _ | | _ | \n",
            "   ---   ---   ---   ---   ---\n",
            "E | _ | | _ | | _ | | _ | | _ | \n",
            "   ---   ---   ---   ---   ---\n",
            "Where would Player 1  like to move: \n",
            "a2\n",
            "    1     2     3     4     5   \n",
            "   ---   ---   ---   ---   ---\n",
            "A | X | | X | | _ | | _ | | _ | \n",
            "   ---   ---   ---   ---   ---\n",
            "B | O | | _ | | _ | | _ | | _ | \n",
            "   ---   ---   ---   ---   ---\n",
            "C | _ | | _ | | _ | | _ | | _ | \n",
            "   ---   ---   ---   ---   ---\n",
            "D | _ | | _ | | _ | | _ | | _ | \n",
            "   ---   ---   ---   ---   ---\n",
            "E | _ | | _ | | _ | | _ | | _ | \n",
            "   ---   ---   ---   ---   ---\n",
            "Where would Player 2  like to move: \n",
            "c2\n",
            "    1     2     3     4     5   \n",
            "   ---   ---   ---   ---   ---\n",
            "A | X | | X | | _ | | _ | | _ | \n",
            "   ---   ---   ---   ---   ---\n",
            "B | O | | _ | | _ | | _ | | _ | \n",
            "   ---   ---   ---   ---   ---\n",
            "C | _ | | O | | _ | | _ | | _ | \n",
            "   ---   ---   ---   ---   ---\n",
            "D | _ | | _ | | _ | | _ | | _ | \n",
            "   ---   ---   ---   ---   ---\n",
            "E | _ | | _ | | _ | | _ | | _ | \n",
            "   ---   ---   ---   ---   ---\n",
            "Where would Player 1  like to move: \n",
            "a3\n",
            "    1     2     3     4     5   \n",
            "   ---   ---   ---   ---   ---\n",
            "A | X | | X | | X | | _ | | _ | \n",
            "   ---   ---   ---   ---   ---\n",
            "B | O | | _ | | _ | | _ | | _ | \n",
            "   ---   ---   ---   ---   ---\n",
            "C | _ | | O | | _ | | _ | | _ | \n",
            "   ---   ---   ---   ---   ---\n",
            "D | _ | | _ | | _ | | _ | | _ | \n",
            "   ---   ---   ---   ---   ---\n",
            "E | _ | | _ | | _ | | _ | | _ | \n",
            "   ---   ---   ---   ---   ---\n",
            "Where would Player 2  like to move: \n",
            "c4\n",
            "    1     2     3     4     5   \n",
            "   ---   ---   ---   ---   ---\n",
            "A | X | | X | | X | | _ | | _ | \n",
            "   ---   ---   ---   ---   ---\n",
            "B | O | | _ | | _ | | _ | | _ | \n",
            "   ---   ---   ---   ---   ---\n",
            "C | _ | | O | | _ | | O | | _ | \n",
            "   ---   ---   ---   ---   ---\n",
            "D | _ | | _ | | _ | | _ | | _ | \n",
            "   ---   ---   ---   ---   ---\n",
            "E | _ | | _ | | _ | | _ | | _ | \n",
            "   ---   ---   ---   ---   ---\n",
            "Where would Player 1  like to move: \n",
            "a4\n",
            "    1     2     3     4     5   \n",
            "   ---   ---   ---   ---   ---\n",
            "A | X | | X | | X | | X | | _ | \n",
            "   ---   ---   ---   ---   ---\n",
            "B | O | | _ | | _ | | _ | | _ | \n",
            "   ---   ---   ---   ---   ---\n",
            "C | _ | | O | | _ | | O | | _ | \n",
            "   ---   ---   ---   ---   ---\n",
            "D | _ | | _ | | _ | | _ | | _ | \n",
            "   ---   ---   ---   ---   ---\n",
            "E | _ | | _ | | _ | | _ | | _ | \n",
            "   ---   ---   ---   ---   ---\n",
            "Where would Player 2  like to move: \n",
            "e5\n",
            "    1     2     3     4     5   \n",
            "   ---   ---   ---   ---   ---\n",
            "A | X | | X | | X | | X | | _ | \n",
            "   ---   ---   ---   ---   ---\n",
            "B | O | | _ | | _ | | _ | | _ | \n",
            "   ---   ---   ---   ---   ---\n",
            "C | _ | | O | | _ | | O | | _ | \n",
            "   ---   ---   ---   ---   ---\n",
            "D | _ | | _ | | _ | | _ | | _ | \n",
            "   ---   ---   ---   ---   ---\n",
            "E | _ | | _ | | _ | | _ | | O | \n",
            "   ---   ---   ---   ---   ---\n",
            "Where would Player 1  like to move: \n",
            "a5\n",
            "    1     2     3     4     5   \n",
            "   ---   ---   ---   ---   ---\n",
            "A | X | | X | | X | | X | | X | \n",
            "   ---   ---   ---   ---   ---\n",
            "B | O | | _ | | _ | | _ | | _ | \n",
            "   ---   ---   ---   ---   ---\n",
            "C | _ | | O | | _ | | O | | _ | \n",
            "   ---   ---   ---   ---   ---\n",
            "D | _ | | _ | | _ | | _ | | _ | \n",
            "   ---   ---   ---   ---   ---\n",
            "E | _ | | _ | | _ | | _ | | O | \n",
            "   ---   ---   ---   ---   ---\n",
            "Congratulations, Player  1  You Win!\n"
          ],
          "name": "stdout"
        }
      ]
    },
    {
      "cell_type": "markdown",
      "metadata": {
        "id": "BEQVf4S9rNjz"
      },
      "source": [
        "*Exercise 11: (Extra Credit)* Develop a version of the game where one player is the computer. Note that you don't need to do an extensive seach for the best move. You can have the computer simply protect against loosing and otherwise try to win with straight or diagonal patterns."
      ]
    },
    {
      "cell_type": "code",
      "metadata": {
        "id": "PH0pJktErNjz"
      },
      "source": [
        "# Write you solution here"
      ],
      "execution_count": null,
      "outputs": []
    },
    {
      "cell_type": "code",
      "metadata": {
        "id": "7fRYe-kZrNj4"
      },
      "source": [
        "# Test your solution here"
      ],
      "execution_count": null,
      "outputs": []
    }
  ]
}