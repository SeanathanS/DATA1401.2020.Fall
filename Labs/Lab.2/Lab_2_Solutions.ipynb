{
  "nbformat": 4,
  "nbformat_minor": 0,
  "metadata": {
    "colab": {
      "name": "Copy of Lab-2.ipynb",
      "provenance": [],
      "collapsed_sections": []
    },
    "kernelspec": {
      "display_name": "Python 3",
      "language": "python",
      "name": "python3"
    },
    "language_info": {
      "codemirror_mode": {
        "name": "ipython",
        "version": 3
      },
      "file_extension": ".py",
      "mimetype": "text/x-python",
      "name": "python",
      "nbconvert_exporter": "python",
      "pygments_lexer": "ipython3",
      "version": "3.8.0"
    }
  },
  "cells": [
    {
      "cell_type": "markdown",
      "metadata": {
        "id": "uk7yc0nadBGa"
      },
      "source": [
        "# Lab 2\n",
        "\n",
        "[![Open In Colab](https://colab.research.google.com/assets/colab-badge.svg)](https://github.com/UTA-DataScience/DATA1401.2020.Fall/blob/master/Labs/Lab.2/Lab.2.ipynb)\n",
        "\n",
        "\n"
      ]
    },
    {
      "cell_type": "markdown",
      "metadata": {
        "id": "u9RAhs5b4vXY"
      },
      "source": [
        "\n",
        "## Make your fork private\n",
        "\n",
        "Navigate your fork of the course repository on GitHub and click the \"gear\" icon to change the settings. Select \"Options\" on the left and scroll all the way down. Then click on \"Make Private\" to make your repository private. \n",
        "\n",
        "Next select the collaborators on the left and add your Professor as a collaborator. "
      ]
    },
    {
      "cell_type": "markdown",
      "metadata": {
        "id": "q-gMWiE4dBG_"
      },
      "source": [
        "## Python Programming\n",
        "\n",
        "In the remainder of this lab you will practice python by solving some simple exercises. \n",
        "\n",
        "*Exercise 1:* Write 2 functions `even(x)` and `odd(x)` that take an integer and returns True if the input is even or odd, otherwise returns False. Use cell below for your solution. Use the subsequent cell to demonstrate that your solution works. Feel free to add additional cell as needed using the \"+\" button on the button bar above. "
      ]
    },
    {
      "cell_type": "code",
      "metadata": {
        "id": "jwN5jff1dBG_"
      },
      "source": [
        "# Write you solution here\n",
        "def even(x):\n",
        "  if (x % 2 == 0):\n",
        "    return True\n",
        "  else:\n",
        "    return False\n",
        "\n",
        "def odd(x):\n",
        "  if (x % 2 == 0):\n",
        "    return False\n",
        "  else:\n",
        "    return True"
      ],
      "execution_count": null,
      "outputs": []
    },
    {
      "cell_type": "code",
      "metadata": {
        "id": "xNJAcodhdBHB",
        "outputId": "8a7269c2-fcb3-4292-ef4e-93bb7658f3ba",
        "colab": {
          "base_uri": "https://localhost:8080/",
          "height": 90
        }
      },
      "source": [
        "# Test your solution here\n",
        "print(\"Even Test, Even Input\", even(4))\n",
        "print(\"Even Test, Odd Input\", even(5))\n",
        "\n",
        "print(\"Odd Test, Even Input\", odd(4))\n",
        "print(\"Odd Test, Odd Input\", odd(5))"
      ],
      "execution_count": null,
      "outputs": [
        {
          "output_type": "stream",
          "text": [
            "Even Test, Even Input True\n",
            "Even Test, Odd Input False\n",
            "Odd Test, Even Input False\n",
            "Odd Test, Odd Input True\n"
          ],
          "name": "stdout"
        }
      ]
    },
    {
      "cell_type": "markdown",
      "metadata": {
        "id": "KL_pyzG8dBHD"
      },
      "source": [
        "*Exercise 2:* Write a function that takes a list of numbers as input and returns a list of the subset of elements that are less that 10. Test your solution."
      ]
    },
    {
      "cell_type": "code",
      "metadata": {
        "id": "g8nt0wnldBHE"
      },
      "source": [
        "# Write you solution here\n",
        "\n",
        "def less_than_10(lst):\n",
        "  out_list = list() \n",
        "  for i in range(len(lst)):\n",
        "    if lst[i] < 10:\n",
        "        out_list.append(lst[i])\n",
        "  return out_list"
      ],
      "execution_count": null,
      "outputs": []
    },
    {
      "cell_type": "code",
      "metadata": {
        "id": "__HTUWA1dBHH",
        "outputId": "4ba7aa6f-4eb0-4150-baae-a871b81cbd28",
        "colab": {
          "base_uri": "https://localhost:8080/",
          "height": 35
        }
      },
      "source": [
        "# Test your solution here\n",
        "\n",
        "print(\"less_than_10 function test\", less_than_10(lst = [2,32,6,8,4,45,74,411]))"
      ],
      "execution_count": null,
      "outputs": [
        {
          "output_type": "stream",
          "text": [
            "less_than_10 function test [2, 6, 8, 4]\n"
          ],
          "name": "stdout"
        }
      ]
    },
    {
      "cell_type": "markdown",
      "metadata": {
        "id": "T0cx91JudBHK"
      },
      "source": [
        "*Exercise 3:* Write a function that takes a number `x_max` as input and returns a function that performs the same task as exercise 2, but for `x_max` instead of 10."
      ]
    },
    {
      "cell_type": "code",
      "metadata": {
        "id": "PqummMcmdBHK"
      },
      "source": [
        "# Write you solution here\n",
        "def less_than(x_max):\n",
        "  def less_than_x_max(lst):\n",
        "    out_list = list() \n",
        "    for i in range(len(lst)):\n",
        "      if lst[i] < x_max:\n",
        "        out_list.append(lst[i])\n",
        "    return out_list\n",
        "  return less_than_x_max(lst)\n"
      ],
      "execution_count": 10,
      "outputs": []
    },
    {
      "cell_type": "code",
      "metadata": {
        "id": "evRYemjXdBHN",
        "outputId": "2c991e32-c6d7-45a5-ed3b-250022979230",
        "colab": {
          "base_uri": "https://localhost:8080/",
          "height": 54
        }
      },
      "source": [
        "# Test your solution here\n",
        "lst = [2,32,6,8,4,12,23,13,15,16,45,74,411]\n",
        "x_max = int(input(\"What is the Number you want to compare to: \"))\n",
        "print(\"less_than function test\", less_than(x_max))"
      ],
      "execution_count": 13,
      "outputs": [
        {
          "output_type": "stream",
          "text": [
            "What is the Number you want to compare to: 15\n",
            "less_than function test [2, 6, 8, 4, 12, 13]\n"
          ],
          "name": "stdout"
        }
      ]
    },
    {
      "cell_type": "markdown",
      "metadata": {
        "id": "h0I8M27LdBHP"
      },
      "source": [
        "*Exercise 4:* Write a function that takes an interger as input and returns a list of all divisors of that number."
      ]
    },
    {
      "cell_type": "code",
      "metadata": {
        "id": "k6GUpDyrdBHP"
      },
      "source": [
        "# Write you solution here\n",
        "def divisor(num):\n",
        "  divisor_list = list()\n",
        "  for i in range(num):\n",
        "    if num % (i+1) == 0:\n",
        "      divisor_list.append(i+1)\n",
        "  return divisor_list"
      ],
      "execution_count": null,
      "outputs": []
    },
    {
      "cell_type": "code",
      "metadata": {
        "id": "YDvRmft-dBHR",
        "outputId": "c1be10c3-51c8-4a09-c52c-d4f7af47eeab",
        "colab": {
          "base_uri": "https://localhost:8080/",
          "height": 35
        }
      },
      "source": [
        "# Test your solution here\n",
        "print(\"Divisor Function Test Simulation\", divisor(15))"
      ],
      "execution_count": null,
      "outputs": [
        {
          "output_type": "stream",
          "text": [
            "Divisor Function Test Simulation [1, 3, 5, 15]\n"
          ],
          "name": "stdout"
        }
      ]
    },
    {
      "cell_type": "markdown",
      "metadata": {
        "id": "IOWnLMvxdBHT"
      },
      "source": [
        "*Exercise 5:* Write a function that takes 2 lists as input and returns a list that contains only the elements that are common between the lists (without duplicates). Make sure your program works on two lists of different sizes."
      ]
    },
    {
      "cell_type": "code",
      "metadata": {
        "id": "tR31bnTDdBHT"
      },
      "source": [
        "# Write you solution here\n",
        "\n",
        "def like_numbers_function(list1,list2):\n",
        "  shared_numbers = list()\n",
        "  for i in range(len(list1)):\n",
        "    for j in range(len(list2)):\n",
        "      if list1[i] == list2[j]:\n",
        "        shared_numbers.append(list1[i])\n",
        "        break\n",
        "  return shared_numbers\n"
      ],
      "execution_count": null,
      "outputs": []
    },
    {
      "cell_type": "code",
      "metadata": {
        "id": "IJDf6ebYdBHV",
        "outputId": "0c077df9-9a0e-4f21-bac6-193e65fad7ff",
        "colab": {
          "base_uri": "https://localhost:8080/",
          "height": 35
        }
      },
      "source": [
        "# Test your solution here\n",
        "print (\"Shared Numbers Trial\", like_numbers_function(list1= [1,2,3,4,5,6,7,8,9], list2= [1,10,65,84,2,6,78,99,5]))"
      ],
      "execution_count": null,
      "outputs": [
        {
          "output_type": "stream",
          "text": [
            "Shared Numbers Trial [1, 2, 5, 6]\n"
          ],
          "name": "stdout"
        }
      ]
    },
    {
      "cell_type": "markdown",
      "metadata": {
        "id": "3vA7M9pldBHX"
      },
      "source": [
        "*Exercise 6:* Write a function that reads takes a string and returns `True` if the string is a palindrome. (A palindrome is a string that reads the same forwards and backwards.)"
      ]
    },
    {
      "cell_type": "code",
      "metadata": {
        "id": "ncyMDzp6dBHX"
      },
      "source": [
        "# Write you solution here\n",
        "\n",
        "def palindrome_function(string):\n",
        "  word2 = string [::-1]\n",
        "  if string == word2:\n",
        "    return True\n",
        "  else:\n",
        "    return False\n",
        "\n"
      ],
      "execution_count": null,
      "outputs": []
    },
    {
      "cell_type": "code",
      "metadata": {
        "id": "v5cmVQ6MdBHZ",
        "outputId": "6ab2d7ba-eff8-4a63-d8d1-9c62a95029cb",
        "colab": {
          "base_uri": "https://localhost:8080/",
          "height": 54
        }
      },
      "source": [
        "# Test your solution here\n",
        "\n",
        "print(\"Not - Palindrome Test\", palindrome_function(string = 'schpadoinkle'))\n",
        "print(\"Palindrome Test\", palindrome_function(string = 'racecar'))"
      ],
      "execution_count": null,
      "outputs": [
        {
          "output_type": "stream",
          "text": [
            "Not - Palindrome Test False\n",
            "Palindrome Test True\n"
          ],
          "name": "stdout"
        }
      ]
    },
    {
      "cell_type": "markdown",
      "metadata": {
        "id": "fT35xwandBHc"
      },
      "source": [
        "*Exercise 7:* Write a Rock-Paper-Scissors game function, that takes 2 strings, the inputs of player 1 and player 2, and output 1 or 2 corresponding to which player wins, or 0 if draw.\n",
        "\n",
        "Implement a Rock-Paper-Scissors game by soliciting input from 2 players, testing with this function, and repeating if there is a draw.\n",
        "\n",
        "Remember the rules:\n",
        "\n",
        "* Rock beats scissors\n",
        "* Scissors beats paper\n",
        "* Paper beats rock"
      ]
    },
    {
      "cell_type": "code",
      "metadata": {
        "id": "U1_HxxaWdBHd"
      },
      "source": [
        "# Write you solution here\n",
        "\n",
        "def RPC_function(string1,string2):\n",
        "  if string1 == string2:\n",
        "    return 0\n",
        "  if string1 == \"paper\":\n",
        "    if string2 == \"rock\":\n",
        "      return 1\n",
        "    if string2 == \"scissors\":\n",
        "      return 2\n",
        "  if string1 == \"scissors\":\n",
        "    if string2 == \"paper\":\n",
        "      return 1\n",
        "    if string2 == \"rock\":\n",
        "      return 2\n",
        "  if string1 == \"rock\":\n",
        "    if string2 == \"scissors\":\n",
        "      return 1\n",
        "    if string2 == \"paper\":\n",
        "      return 2    \n",
        "  "
      ],
      "execution_count": null,
      "outputs": []
    },
    {
      "cell_type": "code",
      "metadata": {
        "id": "ooR2ldZBdBHf",
        "outputId": "4c24fae3-0fe8-436f-f4a3-c6f339ee1d1b",
        "colab": {
          "base_uri": "https://localhost:8080/",
          "height": 237
        }
      },
      "source": [
        "# Test your solution here\n",
        "i = 0\n",
        "while i < 4:\n",
        "  string1 = input(\"What is Player 1's Choice: \")\n",
        "  string2 = input(\"What is Player 2's Choice: \")\n",
        "\n",
        "  print(\"The Winner is Player\", RPC_function(string1,string2))\n",
        "  i = i + 1"
      ],
      "execution_count": null,
      "outputs": [
        {
          "output_type": "stream",
          "text": [
            "What is Player 1's Choice: paper\n",
            "What is Player 2's Choice: paper\n",
            "The Winner is Player 0\n",
            "What is Player 1's Choice: rock\n",
            "What is Player 2's Choice: paper\n",
            "The Winner is Player 2\n",
            "What is Player 1's Choice: rock\n",
            "What is Player 2's Choice: scissors\n",
            "The Winner is Player 1\n",
            "What is Player 1's Choice: paper\n",
            "What is Player 2's Choice: scissors\n",
            "The Winner is Player 2\n"
          ],
          "name": "stdout"
        }
      ]
    },
    {
      "cell_type": "markdown",
      "metadata": {
        "id": "dJQzXNKzdBHh"
      },
      "source": [
        "*Exercise 8:* Write a function that takes a integer `n` as input and \n",
        "outputs a list of the first `n` Fibonnaci numbers.\n",
        "\n",
        "The Fibonnaci seqence is a sequence of numbers where the next number in the sequence is the sum of the previous two numbers in the sequence. The sequence looks like this: 1, 1, 2, 3, 5, 8, 13, …)"
      ]
    },
    {
      "cell_type": "code",
      "metadata": {
        "id": "G_4ooRXTdBHh"
      },
      "source": [
        "# Write you solution here\n",
        "\n",
        "def fibonnaci(n):\n",
        "  lst = list()\n",
        "  for i in range(n):\n",
        "    if i == 0 or i == 1:\n",
        "      sum = 1\n",
        "    else:\n",
        "      sum = lst[i-2] + lst[i-1]\n",
        "    lst.append(sum)\n",
        "  return lst\n"
      ],
      "execution_count": null,
      "outputs": []
    },
    {
      "cell_type": "code",
      "metadata": {
        "id": "rzK5FskJdBHj",
        "outputId": "71515794-4ef8-452e-9fac-c8d5e3e9b922",
        "colab": {
          "base_uri": "https://localhost:8080/",
          "height": 35
        }
      },
      "source": [
        "# Test your solution here\n",
        "\n",
        "print(\"Fibonnaci Sequence Trial\", fibonnaci(10))"
      ],
      "execution_count": null,
      "outputs": [
        {
          "output_type": "stream",
          "text": [
            "Fibonnaci Sequence Trial [1, 1, 2, 3, 5, 8, 13, 21, 34, 55]\n"
          ],
          "name": "stdout"
        }
      ]
    },
    {
      "cell_type": "markdown",
      "metadata": {
        "id": "q6c_AskadBHl"
      },
      "source": [
        "*Exercise 9:* Write a function that takes a string of consisting of several words and returns a string that reverses the order of the words.\n"
      ]
    },
    {
      "cell_type": "code",
      "metadata": {
        "id": "aJdXX6FHdBHl"
      },
      "source": [
        "# Write you solution here\n",
        "def word_reverse(lst):\n",
        "  reverse_lst = list(lst[::-1])\n",
        "  return reverse_lst"
      ],
      "execution_count": null,
      "outputs": []
    },
    {
      "cell_type": "code",
      "metadata": {
        "id": "nQyhnLZ_dBHn",
        "outputId": "39750613-dcff-47c6-ed3c-457c21456742",
        "colab": {
          "base_uri": "https://localhost:8080/",
          "height": 201
        }
      },
      "source": [
        "# Test your solution here\n",
        "lst = list()\n",
        "word = input(\"Enter a word or Enter Stop to quit \")\n",
        "while not(word == \"stop\" or word == \"Stop\"):\n",
        "  lst.append(word)\n",
        "  word = input(\"Enter a word or Enter Stop to quit \")\n",
        "print(\"Reversed Word List\", word_reverse(lst))\n"
      ],
      "execution_count": null,
      "outputs": [
        {
          "output_type": "stream",
          "text": [
            "Enter a word or Enter Stop to quit Bill\n",
            "Enter a word or Enter Stop to quit Joh\n",
            "Enter a word or Enter Stop to quit Steve\n",
            "Enter a word or Enter Stop to quit Jackson\n",
            "Enter a word or Enter Stop to quit Schpadoinkle\n",
            "Enter a word or Enter Stop to quit Guy\n",
            "Enter a word or Enter Stop to quit the\n",
            "Enter a word or Enter Stop to quit man\n",
            "Enter a word or Enter Stop to quit stop\n",
            "Reversed Word List ['man', 'the', 'Guy', 'Schpadoinkle', 'Jackson', 'Steve', 'Joh', 'Bill']\n"
          ],
          "name": "stdout"
        }
      ]
    },
    {
      "cell_type": "markdown",
      "metadata": {
        "id": "NFSmRaSydBHq"
      },
      "source": [
        "*Exercise 10:* Write a guessing game program that will repeatedly guess a number that the users picks, with the user indicating higher or lower, until it correctly guesses the number."
      ]
    },
    {
      "cell_type": "code",
      "metadata": {
        "id": "Ie2E1JzCdBHr"
      },
      "source": [
        "# Write you solution here\n",
        "#number = input(\"What is the Number that you would like to guess: \")\n",
        "\n",
        "#guess = input(\"Please Enter a Number and Try and Guess the Number: \")\n",
        "\n",
        "#if not(guess == number):\n",
        " # while not(guess == number):\n",
        "  #  if guess < number:\n",
        "   #   guess = input(\"Your guess was lower, please try again: \")\n",
        "    #if guess > number:\n",
        "     # guess = input(\"Your guess was higher, please try again: \")\n",
        "    #if guess == number:\n",
        "     # break\n",
        "\n",
        "#if guess == number:\n",
        "#  print(\"Congratulations You Have Guessed The Number!\")\n",
        "\n",
        "def guess_function(information, guess):\n",
        "  if information == \"guess\":\n",
        "    from random import seed\n",
        "    from random import randint\n",
        "    seed(1)\n",
        "    guess = randint(0, 100)\n",
        "    return guess\n",
        "  if information == \"higher\":\n",
        "    guess = guess - 1\n",
        "    return guess\n",
        "  if information == \"lower\":\n",
        "    guess = guess + 1\n",
        "    return guess\n",
        "  if information == \"correct\":\n",
        "    guess = \":)\"\n",
        "    return guess\n",
        "  \n"
      ],
      "execution_count": 39,
      "outputs": []
    },
    {
      "cell_type": "code",
      "metadata": {
        "id": "6T8YdWSMdBHs",
        "outputId": "991f7662-97d7-468f-bc0a-f3e8b8d9e922",
        "colab": {
          "base_uri": "https://localhost:8080/",
          "height": 678
        }
      },
      "source": [
        "# Test your solution here\n",
        "\n",
        "print(\"Pick a Number between 1 and 100\")\n",
        "information = \"guess\"\n",
        "information = input(\"Enter [higher] or [lower] according to the computers guess, Enter [guess] to begin, or [correct] When the computer guesses the number: \")\n",
        "\n",
        "if information != \"correct\":\n",
        "  while not(information == \"correct\"):\n",
        "    guess = guess_function(information,guess)\n",
        "    print(\"The computer's guess is: \",guess)\n",
        "    information = input(\"What is the information you wish to give the computer? \")\n",
        "    guess_function(information,guess)\n",
        "\n"
      ],
      "execution_count": 40,
      "outputs": [
        {
          "output_type": "stream",
          "text": [
            "Pick a Number between 1 and 100\n",
            "Enter [higher] or [lower] according to the computers guess, Enter [guess] to begin, or [correct] When the computer guesses the number: guess\n",
            "The computer's guess is:  17\n",
            "What is the information you wish to give the computer? lower\n",
            "The computer's guess is:  18\n",
            "What is the information you wish to give the computer? lower\n",
            "The computer's guess is:  19\n",
            "What is the information you wish to give the computer? lower\n",
            "The computer's guess is:  20\n",
            "What is the information you wish to give the computer? lower\n",
            "The computer's guess is:  21\n",
            "What is the information you wish to give the computer? lower\n",
            "The computer's guess is:  22\n",
            "What is the information you wish to give the computer? lower\n",
            "The computer's guess is:  23\n",
            "What is the information you wish to give the computer? lower\n",
            "The computer's guess is:  24\n",
            "What is the information you wish to give the computer? lower\n",
            "The computer's guess is:  25\n",
            "What is the information you wish to give the computer? lower\n",
            "The computer's guess is:  26\n",
            "What is the information you wish to give the computer? lower\n",
            "The computer's guess is:  27\n",
            "What is the information you wish to give the computer? lower\n",
            "The computer's guess is:  28\n",
            "What is the information you wish to give the computer? lower\n",
            "The computer's guess is:  29\n",
            "What is the information you wish to give the computer? lower\n",
            "The computer's guess is:  30\n",
            "What is the information you wish to give the computer? lower\n",
            "The computer's guess is:  31\n",
            "What is the information you wish to give the computer? higher\n",
            "The computer's guess is:  30\n",
            "What is the information you wish to give the computer? higher\n",
            "The computer's guess is:  29\n",
            "What is the information you wish to give the computer? correct\n"
          ],
          "name": "stdout"
        }
      ]
    }
  ]
}