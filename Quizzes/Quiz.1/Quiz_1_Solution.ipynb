{
  "nbformat": 4,
  "nbformat_minor": 0,
  "metadata": {
    "kernelspec": {
      "display_name": "Python 3",
      "language": "python",
      "name": "python3"
    },
    "language_info": {
      "codemirror_mode": {
        "name": "ipython",
        "version": 3
      },
      "file_extension": ".py",
      "mimetype": "text/x-python",
      "name": "python",
      "nbconvert_exporter": "python",
      "pygments_lexer": "ipython3",
      "version": "3.8.0"
    },
    "colab": {
      "name": "Copy of Quiz.1.ipynb",
      "provenance": []
    }
  },
  "cells": [
    {
      "cell_type": "markdown",
      "metadata": {
        "id": "eBRgPqbEklJJ"
      },
      "source": [
        "# Quiz 1\n",
        "\n",
        "[![Open In Colab](https://colab.research.google.com/assets/colab-badge.svg)](https://colab.research.google.com/github/UTA-DataScience/DATA1401.2020.Fall/blob/master/Quizzes/Quiz.1/Quiz.1.ipynb)\n",
        "\n",
        "\n",
        "\n",
        "\n",
        "1. Using the lists below, create a function (`make_deck`) that returns a list of the 52 cards in a usual playing card deck. Represent each card as a tuple (e.g. `('Clubs', 3)`). "
      ]
    },
    {
      "cell_type": "code",
      "metadata": {
        "id": "j_vYPO7WklJK",
        "outputId": "2503cf62-6d69-4401-86c5-81ea5a2f2c02",
        "colab": {
          "base_uri": "https://localhost:8080/",
          "height": 54
        }
      },
      "source": [
        "suits = [\"Clubs\", \"Diamonds\", \"Hearts\", \"Spades\"]\n",
        "values = list(range(2,11)) + [ \"Jack\", \"Queen\", \"King\", \"Ace\"]\n",
        "print(suits)\n",
        "print(values)"
      ],
      "execution_count": 1,
      "outputs": [
        {
          "output_type": "stream",
          "text": [
            "['Clubs', 'Diamonds', 'Hearts', 'Spades']\n",
            "[2, 3, 4, 5, 6, 7, 8, 9, 10, 'Jack', 'Queen', 'King', 'Ace']\n"
          ],
          "name": "stdout"
        }
      ]
    },
    {
      "cell_type": "code",
      "metadata": {
        "id": "jO7zTy9-klJW"
      },
      "source": [
        "# Your solution here\n",
        "def make_deck(suits,values):\n",
        "  card = list()\n",
        "  deck = list()\n",
        "  for i in range(len(suits)):\n",
        "    for j in range(len(values)):\n",
        "      card.clear()\n",
        "      card.append(suits[i])\n",
        "      card.append(values[j])\n",
        "      tuplecard = tuple(card)\n",
        "      deck.append(tuplecard)\n",
        "  return deck"
      ],
      "execution_count": 9,
      "outputs": []
    },
    {
      "cell_type": "code",
      "metadata": {
        "id": "kvSlgDWnklJe",
        "outputId": "7a313bc9-aea5-4944-e558-67ef3461b6d2",
        "colab": {
          "base_uri": "https://localhost:8080/",
          "height": 74
        }
      },
      "source": [
        "# Test your solution here\n",
        "deck = make_deck(suits, values)\n",
        "print(len(deck))\n",
        "print (deck)"
      ],
      "execution_count": 12,
      "outputs": [
        {
          "output_type": "stream",
          "text": [
            "52\n",
            "[('Clubs', 2), ('Clubs', 3), ('Clubs', 4), ('Clubs', 5), ('Clubs', 6), ('Clubs', 7), ('Clubs', 8), ('Clubs', 9), ('Clubs', 10), ('Clubs', 'Jack'), ('Clubs', 'Queen'), ('Clubs', 'King'), ('Clubs', 'Ace'), ('Diamonds', 2), ('Diamonds', 3), ('Diamonds', 4), ('Diamonds', 5), ('Diamonds', 6), ('Diamonds', 7), ('Diamonds', 8), ('Diamonds', 9), ('Diamonds', 10), ('Diamonds', 'Jack'), ('Diamonds', 'Queen'), ('Diamonds', 'King'), ('Diamonds', 'Ace'), ('Hearts', 2), ('Hearts', 3), ('Hearts', 4), ('Hearts', 5), ('Hearts', 6), ('Hearts', 7), ('Hearts', 8), ('Hearts', 9), ('Hearts', 10), ('Hearts', 'Jack'), ('Hearts', 'Queen'), ('Hearts', 'King'), ('Hearts', 'Ace'), ('Spades', 2), ('Spades', 3), ('Spades', 4), ('Spades', 5), ('Spades', 6), ('Spades', 7), ('Spades', 8), ('Spades', 9), ('Spades', 10), ('Spades', 'Jack'), ('Spades', 'Queen'), ('Spades', 'King'), ('Spades', 'Ace')]\n"
          ],
          "name": "stdout"
        }
      ]
    },
    {
      "cell_type": "markdown",
      "metadata": {
        "id": "qxCfiS4QklJj"
      },
      "source": [
        "2. Create the following functions that take in a list of [usually 5] cards (`hand`) and return True/False:\n",
        "    * `flush(hand)`: Checks if the cards in the hand are of the same suit.\n",
        "    * `straight(hand)`: Checks if the cards in the hand are in a order.\n",
        "        * You can start with just checking numerical cards.\n",
        "        * Extra Credit: Include all cards.\n",
        "    * `straight_flush(hand)`: Combination of both."
      ]
    },
    {
      "cell_type": "code",
      "metadata": {
        "id": "kdWKC3WwklJk"
      },
      "source": [
        "# Your solution here\n",
        "def flush(hand):\n",
        "  matching = True\n",
        "  count = 0\n",
        "  list_of_suits = list()\n",
        "  for item in hand:\n",
        "    print(item)\n",
        "    list_of_suits.append(item[0])\n",
        "  print(list_of_suits)\n",
        "  for j in range(len(list_of_suits)):\n",
        "    if list_of_suits[j] == list_of_suits[0]:\n",
        "      count = count +1\n",
        "  if count == len(list_of_suits):\n",
        "    return True\n",
        "  else:\n",
        "    return False"
      ],
      "execution_count": 31,
      "outputs": []
    },
    {
      "cell_type": "code",
      "metadata": {
        "id": "LXt2VcV8qTj_"
      },
      "source": [
        "hand_one = [('Clubs', 2), ('Clubs', 3), ('Clubs', 4), ('Clubs', 5), ('Clubs', 6)]\n",
        "hand_two = [('Clubs', 'Jack'), ('Clubs', 'Queen'), ('Clubs', 'King'), ('Clubs', 'Ace'), ('Diamonds', 2)]"
      ],
      "execution_count": 17,
      "outputs": []
    },
    {
      "cell_type": "code",
      "metadata": {
        "id": "9rb1QD5rklJp",
        "outputId": "1efe3697-c08e-4689-dfb1-367606abff0d",
        "colab": {
          "base_uri": "https://localhost:8080/",
          "height": 146
        }
      },
      "source": [
        "# Test your solution here\n",
        "print(flush(hand_two))"
      ],
      "execution_count": 33,
      "outputs": [
        {
          "output_type": "stream",
          "text": [
            "('Clubs', 'Jack')\n",
            "('Clubs', 'Queen')\n",
            "('Clubs', 'King')\n",
            "('Clubs', 'Ace')\n",
            "('Diamonds', 2)\n",
            "['Clubs', 'Clubs', 'Clubs', 'Clubs', 'Diamonds']\n",
            "False\n"
          ],
          "name": "stdout"
        }
      ]
    },
    {
      "cell_type": "code",
      "metadata": {
        "id": "41wxjdZUswZl"
      },
      "source": [
        "def straight(hand):\n",
        "  values_list = list()\n",
        "  for k in hand:\n",
        "    values_list.append(k[1])\n",
        "  min = 0\n",
        "  max =0\n",
        "  min = min(values_list)\n",
        "  max = max(values_list)\n",
        "\n",
        "  if sum(range(min,max)) == sum(values_list):\n",
        "    return True\n",
        "  else:\n",
        "    return False\n",
        "  "
      ],
      "execution_count": 38,
      "outputs": []
    },
    {
      "cell_type": "code",
      "metadata": {
        "id": "hmsq-JBktmbN",
        "outputId": "2e51088b-5404-4d85-84cb-4cdefb047143",
        "colab": {
          "base_uri": "https://localhost:8080/",
          "height": 301
        }
      },
      "source": [
        "print(straight(hand_one))"
      ],
      "execution_count": 39,
      "outputs": [
        {
          "output_type": "error",
          "ename": "TypeError",
          "evalue": "ignored",
          "traceback": [
            "\u001b[0;31m---------------------------------------------------------------------------\u001b[0m",
            "\u001b[0;31mTypeError\u001b[0m                                 Traceback (most recent call last)",
            "\u001b[0;32m<ipython-input-39-37f918ebcda0>\u001b[0m in \u001b[0;36m<module>\u001b[0;34m()\u001b[0m\n\u001b[0;32m----> 1\u001b[0;31m \u001b[0mprint\u001b[0m\u001b[0;34m(\u001b[0m\u001b[0mstraight\u001b[0m\u001b[0;34m(\u001b[0m\u001b[0mhand_one\u001b[0m\u001b[0;34m)\u001b[0m\u001b[0;34m)\u001b[0m\u001b[0;34m\u001b[0m\u001b[0;34m\u001b[0m\u001b[0m\n\u001b[0m",
            "\u001b[0;32m<ipython-input-38-83d796db8c93>\u001b[0m in \u001b[0;36mstraight\u001b[0;34m(hand)\u001b[0m\n\u001b[1;32m      5\u001b[0m   \u001b[0mmin\u001b[0m \u001b[0;34m=\u001b[0m \u001b[0;36m0\u001b[0m\u001b[0;34m\u001b[0m\u001b[0;34m\u001b[0m\u001b[0m\n\u001b[1;32m      6\u001b[0m   \u001b[0mmax\u001b[0m \u001b[0;34m=\u001b[0m\u001b[0;36m0\u001b[0m\u001b[0;34m\u001b[0m\u001b[0;34m\u001b[0m\u001b[0m\n\u001b[0;32m----> 7\u001b[0;31m   \u001b[0mmin\u001b[0m \u001b[0;34m=\u001b[0m \u001b[0mmin\u001b[0m\u001b[0;34m(\u001b[0m\u001b[0mvalues_list\u001b[0m\u001b[0;34m)\u001b[0m\u001b[0;34m\u001b[0m\u001b[0;34m\u001b[0m\u001b[0m\n\u001b[0m\u001b[1;32m      8\u001b[0m   \u001b[0mmax\u001b[0m \u001b[0;34m=\u001b[0m \u001b[0mmax\u001b[0m\u001b[0;34m(\u001b[0m\u001b[0mvalues_list\u001b[0m\u001b[0;34m)\u001b[0m\u001b[0;34m\u001b[0m\u001b[0;34m\u001b[0m\u001b[0m\n\u001b[1;32m      9\u001b[0m \u001b[0;34m\u001b[0m\u001b[0m\n",
            "\u001b[0;31mTypeError\u001b[0m: 'int' object is not callable"
          ]
        }
      ]
    }
  ]
}